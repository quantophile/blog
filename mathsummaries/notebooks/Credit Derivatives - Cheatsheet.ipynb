{
 "cells": [
  {
   "cell_type": "markdown",
   "id": "fcdbafa5",
   "metadata": {},
   "source": [
    "# Credit Derivatives Cheatsheet."
   ]
  },
  {
   "cell_type": "markdown",
   "id": "b81f36a3",
   "metadata": {},
   "source": [
    "## Default Baskets\n",
    "\n",
    "### Mechanics.\n",
    "\n",
    "A default basket is identical to a CDS contract. The difference is that the event which causes the payment leg to trigger and the premium leg to terminate is the nth default in a basket of N credits, where typically $5\\leq N\\leq 10$. If $n=1$, the contract is called a *first-to-default (FTD)* basket. If $n=2$, then we have a second-to-default basket and so on. The basket of reference credits is chosen at trade initiation and remains fixed over the life of the contract. \n",
    "\n",
    "As with a standard CDS the basket consists of a premium leg and a protection leg. The premium leg is a stream of periodic payments which continue upto maturity T, or to the time of the nth credit event on the basket, whichever occurs sooner. We denote the fixed $n$th-to-default basket spread with $S_{n}$.\n",
    "\n",
    "On the protection leg, a payment is only made following the $n$th credit event, provided that this occurs before the contract maturity $T$. We index the credits in the basket with $i=1,\\ldots,N$ and denote the index of the $n$th credit to default with $i(n)$. Assuming a contract face value of $\\$1$, the size of the payment following the $n$th default is:\n",
    "\n",
    "$$(1 - R_{(n)})$$"
   ]
  },
  {
   "cell_type": "markdown",
   "id": "e2616797",
   "metadata": {},
   "source": [
    "where $R_{i(n)}$ is the expected value of the recovery rate associated with credit ${i(n)}$.\n",
    "\n",
    "It is important to note that the face value of the loss is the same as the face value of the contract. It is the same as the loss on a CDS on credit $i(n)$ with the same face value as a basket. "
   ]
  },
  {
   "cell_type": "markdown",
   "id": "227e75a0",
   "metadata": {},
   "source": []
  }
 ],
 "metadata": {
  "kernelspec": {
   "display_name": "Python 3 (ipykernel)",
   "language": "python",
   "name": "python3"
  },
  "language_info": {
   "codemirror_mode": {
    "name": "ipython",
    "version": 3
   },
   "file_extension": ".py",
   "mimetype": "text/x-python",
   "name": "python",
   "nbconvert_exporter": "python",
   "pygments_lexer": "ipython3",
   "version": "3.11.4"
  }
 },
 "nbformat": 4,
 "nbformat_minor": 5
}
