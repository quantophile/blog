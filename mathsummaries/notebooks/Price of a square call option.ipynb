{
 "cells": [
  {
   "cell_type": "markdown",
   "id": "9288e34c",
   "metadata": {},
   "source": [
    "# Price of European option with payoff $V(T)=\\max (S^2(T) - K,0)$\n",
    "\n",
    "## Deriving the dynamics of $X(t) = S^2(t)$.\n",
    "\n",
    "In the Black-Scholes world, the stock price $S(t)$ has $\\mathbb{Q}$-dynamics:\n",
    "\n",
    "$$\n",
    "dS_t = rS(t)dt + \\sigma S(t) dW^{\\mathbb{Q}}(t) \\tag{1}\n",
    "$$"
   ]
  },
  {
   "cell_type": "markdown",
   "id": "f97ea6ff",
   "metadata": {},
   "source": [
    "Let $X(t) = S^2(t)$. The square of the stock price has the $\\mathbb{Q}$-dyamics:\n",
    "\n",
    "$$\n",
    "\\begin{align*}\n",
    "dX_t &= 2S(t)dS(t) + \\frac{1}{2}\\cdot 2 \\cdot dS_t \\cdot dS_t\\\\\n",
    "&= 2S(t) ( rS(t)dt + \\sigma S(t) dW^{\\mathbb{Q}}(t)) + \\sigma^2 S^2(t) dt \\\\\n",
    "&= S^2(t)[(2r + \\sigma^2)dt + 2\\sigma dW^{\\mathbb{Q}}(t)]\\\\\n",
    "&= X(t)[(2r + \\sigma^2)dt + 2\\sigma dW^{\\mathbb{Q}}(t)]\n",
    "\\end{align*}\n",
    "$$"
   ]
  },
  {
   "cell_type": "markdown",
   "id": "3cde930b",
   "metadata": {},
   "source": [
    "Let $f(x) = \\log x$. By Ito's formula:\n",
    "\n",
    "$$\n",
    "\\begin{align*}\n",
    "d(\\log X_t) &= \\frac{1}{X(t)}dX(t) + \\frac{1}{2}\\cdot \\left(-\\frac{1}{X^2(t)}\\right)dX(t)\\cdot dX(t)\\\\\n",
    " &= (2r + \\sigma^2)dt + 2\\sigma dW^{\\mathbb{Q}}(t) - \\frac{1}{2}\\cdot 4\\sigma^2 dt\\\\\n",
    " &= (2r - \\sigma^2)dt + 2\\sigma dW^{\\mathbb{Q}}(t) \\\\\n",
    " X(t) &= X(0) \\exp[(2r - \\sigma^2)t + 2\\sigma W^{\\mathbb{Q}}(t)] \\tag{2}\n",
    "\\end{align*}\n",
    "$$"
   ]
  },
  {
   "cell_type": "markdown",
   "id": "ba4ac316",
   "metadata": {},
   "source": [
    "## Computing the expectations.\n",
    "\n",
    "By the risk neutral pricing formula, the price of the claim $V(T) = \\max(S^2(T) - K,0)$ at time $t$ is:\n",
    "\n",
    "$$\n",
    "\\begin{align*}\n",
    "V(t,T) &= \\mathbb{E}^{\\mathbb{Q}}[e^{-r(T-t)}(S^2(T) - K)\\cdot 1_{S^2(T) > K}|\\mathcal{F}_t] \\\\\n",
    "&= e^{-r(T-t)}\\mathbb{E}^{\\mathbb{Q}}[S^2(T) 1_{S^2(T) > K}|\\mathcal{F}_t] - Ke^{-r(T-t)}\\mathbb{E}^{\\mathbb{Q}}[1_{S^2(T) > K}|\\mathcal{F}_t]\n",
    "\\end{align*}\\tag{3}\n",
    "$$"
   ]
  },
  {
   "cell_type": "markdown",
   "id": "0e3aa0e6",
   "metadata": {},
   "source": [
    "### Computing $\\mathbb{E}^{\\mathbb{Q}}[1_{S(T) > K}|\\mathcal{F}_t]$."
   ]
  },
  {
   "cell_type": "markdown",
   "id": "a6a3836b",
   "metadata": {},
   "source": [
    "Define :\n",
    "\n",
    "$$\n",
    "\\begin{align*}\n",
    "\\tau &:= T - t\\\\\n",
    "d_{1}(\\tau,x) &= \\frac{\\log\\frac{x}{\\sqrt{K}} + \\left(r + \\frac{3}{2}\\sigma^2\\right)\\tau}{\\sigma \\sqrt{\\tau}}\\\\\n",
    "d_{2}(\\tau,x) &= \\frac{\\log\\frac{x}{\\sqrt{K}} + \\left(r - \\frac{\\sigma^2}{2}\\right)\\tau}{\\sigma \\sqrt{\\tau}}\n",
    "\\end{align*}\n",
    "$$\n",
    "\n",
    "The second expectation $\\mathbb{E}^{\\mathbb{Q}}[1_{S(T) > K}|\\mathcal{F}_t]$ is computed in the standard way."
   ]
  },
  {
   "cell_type": "markdown",
   "id": "3e9c9ce9",
   "metadata": {},
   "source": [
    "$$\n",
    "\\begin{align*}\n",
    "\\mathbb{E}^{\\mathbb{Q}}[1_{S^2(T) > K}|\\mathcal{F}_t] &= \\mathbb{Q}(S^2(T) > K|\\mathcal{F_t})\\\\\n",
    "&=\\mathbb{Q}\\left(\\log S^2(T) > \\log K|\\mathcal{F_t}\\right)\\\\\n",
    "&=\\mathbb{Q}\\left(\\log S^2(t) + (2r - \\sigma^2)\\tau + 2\\sigma \\sqrt{\\tau} Z > \\log K|\\mathcal{F_t}\\right)\\\\\n",
    "&=\\mathbb{Q}\\left( 2\\sigma \\sqrt{\\tau} Z > \\log K - \\log S^2(t) - 2(r - \\sigma^2/2)\\tau|\\mathcal{F_t}\\right)\\\\\n",
    "&=\\mathbb{Q}\\left(Z > \\frac{\\log K - \\log S^2(t) - 2(r - \\sigma^2/2)\\tau}{2\\sigma \\sqrt{\\tau}}|\\mathcal{F_t}\\right)\\\\\n",
    "&=\\mathbb{Q}\\left(Z < \\frac{\\log S^2(t) - \\log K + 2(r - \\sigma^2/2)\\tau}{2\\sigma \\sqrt{\\tau}}|\\mathcal{F_t}\\right)\\\\\n",
    "&=\\mathbb{Q}\\left(Z < \\frac{\\log \\frac{S^2(t)}{K} + 2(r - \\sigma^2/2)\\tau}{2\\sigma \\sqrt{\\tau}}|\\mathcal{F_t}\\right)\\\\\n",
    "&=\\mathbb{Q}\\left(Z < \\frac{\\log \\frac{S(t)}{\\sqrt{K}} + (r - \\sigma^2/2)\\tau}{\\sigma \\sqrt{\\tau}}|\\mathcal{F_t}\\right)\\\\\n",
    "&=\\Phi(d_{2}(\\tau,S(t)))\n",
    "\\end{align*} \\tag{4}\n",
    "$$"
   ]
  },
  {
   "cell_type": "markdown",
   "id": "fd678d59",
   "metadata": {},
   "source": [
    "### Computing $\\mathbb{E}^{\\mathbb{Q}}[S^2(T) 1_{S^2(T) > K}|\\mathcal{F}_t]$."
   ]
  },
  {
   "cell_type": "markdown",
   "id": "c764a81b",
   "metadata": {},
   "source": [
    "Let $\\tilde{\\mathbb{Q}}$ be another probability measure related to $\\mathbb{Q}$ defined by the Radon-Nikodym derivative:\n",
    "\n",
    "$$\n",
    "\\begin{align*}\n",
    "\\frac{d\\tilde{\\mathbb{Q}}}{d\\mathbb{Q}} &= \\frac{N(T)/B(T)}{N(0)/B(0)} \\\\\n",
    "&= \\frac{S^2(T)/e^{rT}}{S^2(0)/1}\\\\\n",
    "&= \\exp\\left[(r-\\sigma^2)T + 2\\sigma W^{\\mathbb{Q}(T)}\\right]\\\\\n",
    "&= \\exp\\left[2\\sigma W^{\\mathbb{Q}(T)}-\\frac{1}{2}4\\sigma^2 T\\right]\\exp\\left[rT + \\sigma^2 T\\right]\n",
    "\\end{align*}\n",
    "$$\n",
    "\n",
    "Using Girsanov's theorem, we can express $W^{\\tilde{\\mathbb{Q}}}(t) = W^{\\mathbb{Q}}(t) - 2\\sigma t$ and the constant expression $\\exp\\left[rT + \\sigma^2 T\\right]$ is taken care of at the end, after we have found a suitable CDF."
   ]
  },
  {
   "cell_type": "markdown",
   "id": "980f8b9b",
   "metadata": {},
   "source": [
    "By the change of measure theorem, the first expectation can be expressed as follows:\n",
    "\n",
    "$$\n",
    "\\begin{align*}\n",
    "\\mathbb{E}^{\\tilde{\\mathbb{Q}}}[1_{S^2(T)>K}|\\mathcal{F}_t] &= \\mathbb{E}^{\\mathbb{Q}}\\left[\\frac{(d\\tilde{\\mathbb{Q}}/d\\mathbb{Q})_T}\n",
    "{(d\\tilde{\\mathbb{Q}}/d\\mathbb{Q})_t}1_{S^2(T)>K}|\\mathcal{F}_t\\right]\\\\\n",
    "\\mathbb{E}^{\\tilde{\\mathbb{Q}}}[1_{S^2(T)>K}|\\mathcal{F}_t] &= \\mathbb{E}^{\\mathbb{Q}}\\left[\\frac{S^2(T)e^{-rT}}\n",
    "{S^2(t)e^{-rt}}1_{S^2(T)>K}|\\mathcal{F}_t\\right]\\\\\n",
    "S^2(t)\\mathbb{E}^{\\tilde{\\mathbb{Q}}}[1_{S^2(T)>K}|\\mathcal{F}_t] &= \\mathbb{E}^{\\mathbb{Q}}\\left[S^2(T)e^{-r(T-t)}\n",
    "1_{S^2(T)>K}|\\mathcal{F}_t\\right] \\tag{5}\n",
    "\\end{align*}\n",
    "$$"
   ]
  },
  {
   "cell_type": "markdown",
   "id": "7913b29e",
   "metadata": {},
   "source": [
    "### Computing $\\mathbb{E}^{\\tilde{\\mathbb{Q}}}[1_{S^2(T)>K}|\\mathcal{F}_t]$."
   ]
  },
  {
   "cell_type": "markdown",
   "id": "2f98c835",
   "metadata": {},
   "source": [
    "We can now solve for $\\tilde{\\mathbb{Q}}(S^2(T) > K)$ as:\n",
    "\n",
    "$$\n",
    "\\begin{align*}\n",
    "\\mathbb{E}^{\\tilde{\\mathbb{Q}}}[1_{S^2(T)>K}|\\mathcal{F}_t] &= \\tilde{\\mathbb{Q}}\\left(S^2(T) > K\\right)\\\\\n",
    "&=\\tilde{\\mathbb{Q}}\\left(\\log S^2(T) > \\log K\\right)\\\\\n",
    "&=\\tilde{\\mathbb{Q}}\\left(\\log S^2(t) + (2r - \\sigma^2)\\tau + 2\\sigma W^{\\mathbb{Q}}(\\tau) > \\log K\\right)\\\\\n",
    "&=\\tilde{\\mathbb{Q}}\\left(\\log S^2(t) + (2r - \\sigma^2)\\tau + 2\\sigma (W^{\\tilde{\\mathbb{Q}}}(\\tau) + 2\\sigma \\tau) > \\log K\\right)\\\\\n",
    "&=\\tilde{\\mathbb{Q}}\\left(\\log S^2(t) + (2r + 3\\sigma^2)\\tau + 2\\sigma W^{\\tilde{\\mathbb{Q}}}(\\tau) > \\log K\\right)\\\\\n",
    "&=\\tilde{\\mathbb{Q}}\\left(2\\sigma W^{\\tilde{\\mathbb{Q}}}(\\tau) > \\log K - \\log S^2(t) - (2r + 3\\sigma^2)\\tau \\right)\\\\\n",
    "&=\\tilde{\\mathbb{Q}}\\left(W^{\\tilde{\\mathbb{Q}}}(1) > \\frac{\\log \\sqrt{K} - \\log S(t) - (r + \\frac{3}{2}\\sigma^2)\\tau}{\\sigma\\sqrt{\\tau}}\\right)\\\\\n",
    "&=\\tilde{\\mathbb{Q}}\\left(W^{\\tilde{\\mathbb{Q}}}(1) < \\frac{\\log \\frac{S(t)}{\\sqrt{K}} + (r + \\frac{3}{2}\\sigma^2)\\tau}{\\sigma\\sqrt{\\tau}}\\right)\\\\\n",
    "&=\\Phi(d_1(\\tau,S(t))\n",
    "\\end{align*}\n",
    "$$"
   ]
  },
  {
   "cell_type": "markdown",
   "id": "27bf3c80",
   "metadata": {},
   "source": [
    "## Conclusion.\n",
    "\n",
    "The price of the European power call option having payoff $V(T)=\\max (S^\\alpha(T) - K,0)$, where $\\alpha = 2$ is:\n",
    "\n",
    "$$\n",
    "V(t,T) = S^2(t)\\Phi(d_1(\\tau,S(t))) - Ke^{-r(T-t)}\\Phi(d_2(\\tau,S(t)))\n",
    "$$"
   ]
  },
  {
   "cell_type": "code",
   "execution_count": null,
   "id": "352fd152",
   "metadata": {},
   "outputs": [],
   "source": []
  }
 ],
 "metadata": {
  "kernelspec": {
   "display_name": "Python 3 (ipykernel)",
   "language": "python",
   "name": "python3"
  },
  "language_info": {
   "codemirror_mode": {
    "name": "ipython",
    "version": 3
   },
   "file_extension": ".py",
   "mimetype": "text/x-python",
   "name": "python",
   "nbconvert_exporter": "python",
   "pygments_lexer": "ipython3",
   "version": "3.11.4"
  }
 },
 "nbformat": 4,
 "nbformat_minor": 5
}
