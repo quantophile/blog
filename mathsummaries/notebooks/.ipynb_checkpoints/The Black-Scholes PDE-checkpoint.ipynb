{
 "cells": [
  {
   "cell_type": "markdown",
   "id": "66dc3994",
   "metadata": {},
   "source": [
    "# Deriving the Black-Scholes PDE\n",
    "\n",
    "## Risk-Free Asset\n",
    "\n",
    "The price process $(B(t),t\\geq 0)$ is the price of a risk-free asset, if it has the dynamics:\n",
    "\n",
    "$$dB(t) = r(t)B(t)dt$$\n",
    "\n",
    "The definining property of a risk-free asset is thus, that it has no driving $dW$-term. Using the separation of variables method, we can also write the $B$-dynamics as:\n",
    "\n",
    "$$\\frac{dB(t)}{B(t)} = r(t)dt$$\n",
    "\n",
    "We can integrate this like an ordinary ODE. \n",
    "\n",
    "$$B(t) = B(0)e^{-\\int_{0}^{t}r(s)ds}$$\n",
    "\n",
    "and as notational convention, we put $B(0) = 1$.\n",
    "\n",
    "The natural interpretation of a risk-free asset is that it corresponds to a bank account with (possibly stochastic) short interest rate $r$. Note that, the bank-account is **locally risk-free**, in the sense that, even if the short rate is a random process, the return $r(t)$ over an infinitesimal time-period $dt$ is risk-free (that is deterministic, given the information available at time $t$). However, the return of $B(t)$ over a **longer interval** such as $[t,T]$ is typically stochastic.\n",
    "\n"
   ]
  },
  {
   "cell_type": "markdown",
   "id": "babfc3f0",
   "metadata": {},
   "source": [
    "## The Black-Scholes Model\n",
    "\n",
    "The Black-Scholes model consists of two assets with dynamics given by:\n",
    "\n",
    "$$\n",
    "\\begin{align}\n",
    "dB(t) &= r(t)B(t)dt\\\\\n",
    "dS(t) &= \\mu S(t)dt+ \\sigma S(t)dW(t)\n",
    "\\end{align}\n",
    "$$\n",
    "\n"
   ]
  },
  {
   "cell_type": "code",
   "execution_count": null,
   "id": "f3b31513",
   "metadata": {},
   "outputs": [],
   "source": []
  },
  {
   "cell_type": "code",
   "execution_count": null,
   "id": "d0b1e559",
   "metadata": {},
   "outputs": [],
   "source": []
  }
 ],
 "metadata": {
  "kernelspec": {
   "display_name": "Python 3 (ipykernel)",
   "language": "python",
   "name": "python3"
  },
  "language_info": {
   "codemirror_mode": {
    "name": "ipython",
    "version": 3
   },
   "file_extension": ".py",
   "mimetype": "text/x-python",
   "name": "python",
   "nbconvert_exporter": "python",
   "pygments_lexer": "ipython3",
   "version": "3.11.4"
  }
 },
 "nbformat": 4,
 "nbformat_minor": 5
}
