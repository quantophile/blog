{
 "cells": [
  {
   "attachments": {},
   "cell_type": "markdown",
   "id": "9d77a2ef",
   "metadata": {},
   "source": [
    "# Pricing a Quanto.\n",
    "\n",
    "## The infamous currency triangle.\n",
    "\n",
    "We know that the cross \n",
    "\n",
    "$$XAUUSD = \\frac{XAUEUR}{USDEUR}$$\n",
    "\n",
    "The continuously compounded returns on the pair $XAUUSD$ are the log of the price relative. So,\n",
    "\n",
    "$$r^{XAUUSD} = \\log\\left(\\frac{XAUUSD_{t}}{XAUUSD_{t-1}}\\right)$$\n",
    "\n",
    "Thus:\n",
    "\n",
    "$$\n",
    "\\begin{align*}\n",
    "r^{XAUUSD} &= \\log\\left(\\frac{\\frac{XAUEUR_{t}}{USDEUR_t}}{\\frac{XAUEUR_{t-1}}{USDEUR_{t-1}}}\\right)\\\\\n",
    "&= \\log\\left(\\frac{XAUEUR_{t}}{XAUEUR_{t-1}}\\right) - \\log \\left(\\frac{USDEUR_t}{USDEUR_{t-1}}\\right)\\\\\n",
    "&= r^{XAUEUR} - r^{USDEUR}\n",
    "\\end{align*}\n",
    "$$\n",
    "\n",
    "Since these returns are random variables, we have:\n",
    "\n",
    "$$\n",
    "\\begin{align*}\n",
    "\\sigma_{XAUUSD}^2 &= \\sigma_{XAUEUR}^2 + \\sigma_{USDEUR}^2 - 2\\sigma_{XAUEUR}\\cdot \\sigma_{USDEUR}\\cdot \\rho_{XAUEUR,USDEUR}\n",
    "\\end{align*}\n",
    "$$\n",
    "\n",
    "This looks very familiar to the cosine rule and we can visualize this calculation using elementary geometry. Label the corners of the triangle $XAU$, $EUR$, and $USD$, the vectors of the edges $\\overrightarrow{\\sigma}_1$ from $XAU$ to $USD$, $\\overrightarrow{\\sigma}_2$ from $XAU$ to $EUR$, and $\\overrightarrow{\\sigma}_3$ from $USD$ to $EUR$. The edge lengths can be viewed as volatilities and the cosines of the angles as correlations.\n",
    "\n",
    "![Currency triangle](currency_triangle.jpg)\n",
    "\n",
    "So, in the FX market, the correlation structure can be computed explicitly in terms of the known volatilities using the interdependence of exchange rates. "
   ]
  },
  {
   "cell_type": "markdown",
   "id": "2903f4e1",
   "metadata": {},
   "source": [
    "## What if the two currency pairs don't have a common currency?\n",
    "\n",
    "You must read this excellent [note](https://www.mathfinance.com/wp-content/uploads/2020/09/rainbow.pdf) by Wystup. For example, to compute the correlation between GBPJPY and EURUSD, you inflate the market of these two currency pairs to include  following ${4 \\choose 2} = 6$ pairs, for example: GBPJPY, GBPEUR, GBPUSD, EURJPY, USDJPY and EURUSD. Geomtrically, we introduce a tetrahedron with triangular sides whose corners are the four currencies and each of the ${6 \\choose 2}=15$ correlations can be implied."
   ]
  },
  {
   "cell_type": "markdown",
   "id": "f6f7b044",
   "metadata": {},
   "source": [
    "## Quanto-drift adjustment.\n",
    "\n",
    "A quanto option is any cash-settled option, whose payoff is converted into a third currency at maturity at a pre-specified rate, called the *quanto factor*. \n",
    "\n",
    "Consider the example of a Gold contract with underlying XAU/USD in XAU-USD quotation quantoed in EUR. Since the payoff is in EUR, we let EUR be the numeraire or domestic currency. \n"
   ]
  },
  {
   "cell_type": "markdown",
   "id": "794b78a1",
   "metadata": {},
   "source": [
    "Consider the Black-Scholes model with $\\mathbb{Q}$-dynamics:\n",
    "\n",
    "$$\n",
    "\\begin{align*}\n",
    "\\text{XAU-EUR : } dS_t^{(3)} &= S_t^{(3)}((r_{EUR} - r_{XAU})dt + \\sigma_3 dW_t^{(3)}) \\\\\n",
    "\\text{USD-EUR : } dS_t^{(2)} &= S_t^{(2)}((r_{EUR} - r_{USD})dt + \\sigma_2 dW_t^{(2)}) \\\\\n",
    "dW_t^{(3)}dW_t^{(2)} &= \\rho_{23} dt\n",
    "\\end{align*}\n",
    "$$"
   ]
  },
  {
   "attachments": {},
   "cell_type": "markdown",
   "id": "ab54127c",
   "metadata": {},
   "source": [
    "The actual underlying is $S_t^{(1)} = XAUUSD$. And\n",
    "\n",
    "$$S_t^{(1)} = \\frac{S_t^{(3)}}{S_t^{(2)}}$$"
   ]
  },
  {
   "cell_type": "markdown",
   "id": "2b2a97d8",
   "metadata": {},
   "source": [
    "By Ito's formula, we have:\n",
    "\n",
    "$$\n",
    "\\begin{align*}\n",
    "d\\frac{1}{S_t^{(2)}} &= -\\frac{1}{(S_t^{(2)})^2} dS_t^{(2)} + \\frac{1}{2}\\cdot\\frac{2}{(S_t^{(2)})^3}dS_t^{(2)}\\cdot dS_t^{(2)}\\\\\n",
    "&= -\\frac{1}{S_t^{(2)}}((r_{EUR} - r_{USD})dt + \\sigma_2 dW_t^{(2)})+\\frac{1}{S_t^{(2)}}\\sigma_2^2 dt\\\\\n",
    "&= \\frac{1}{S_t^{(2)}}(r_{USD} - r_{EUR} + \\sigma_2^2)dt - \\frac{1}{S_t^{(2)}}\\sigma_2 dW_t^{(2)})\n",
    "\\end{align*}\n",
    "$$"
   ]
  },
  {
   "cell_type": "markdown",
   "id": "b18d2086",
   "metadata": {},
   "source": [
    "So, I can write:\n",
    "\n",
    "$$\n",
    "\\begin{align*}\n",
    "dS_t^{(1)} &= \\frac{1}{S_t^{(2)}}dS_t^{(3)} + S_t^{(3)}d\\frac{1}{S_t^{(2)}} + d\\frac{1}{S_t^{(2)}}\\cdot dS_t^{(3)}\\\\\n",
    "&= S_t^{(1)}((r_{EUR} - r_{XAU})dt + \\sigma_3 dW_t^{(3)}) \\\\\n",
    "&+ S_t^{(1)}((r_{USD} - r_{EUR} + \\sigma_2^2)dt- \\sigma_2 dW_t^{(2)})) \\\\\n",
    "&- S_t^{(1)}\\sigma_2 \\sigma_3 \\rho_{23}dt \\\\\n",
    "&= S_t^{(1)}((r_{USD}- r_{XAU}+ \\sigma_2^2 -\\sigma_2 \\sigma_3 \\rho_{23})dt \\\\\n",
    "&+ S_t^{(1)}(\\sigma_3  dW_t^{(3)} - \\sigma_2 dW_t^{(2)})\n",
    "\\end{align*}\n",
    "$$"
   ]
  },
  {
   "cell_type": "markdown",
   "id": "cb53fffc",
   "metadata": {},
   "source": [
    "We can introduce another process:\n",
    "\n",
    "$$dW_t^{(1)} = \\frac{\\sigma_3  dW_t^{(3)} - \\sigma_2 dW_t^{(2)}}{\\sigma_1}$$\n",
    "\n",
    "Integrating on both sides, we find that $W_t^{(1)}$ is a martingale. Further:\n",
    "\n",
    "$$\n",
    "\\begin{align*}\n",
    "dW_t^{(1)} \\cdot dW_t^{(1)} &= \\frac{(\\sigma_3  dW_t^{(3)} - \\sigma_2 dW_t^{(2)})^2}{\\sigma_1^2} \\\\\n",
    "&=\\frac{\\sigma_3^2 + \\sigma_2^2 - 2\\sigma_2 \\sigma_3 \\rho_{23}}{\\sigma_1^2}\\cdot dt \\\\\n",
    "&= dt\n",
    "\\end{align*}\n",
    "$$\n",
    "\n",
    "Thus, it has quadratic variation $t$. So, by the levy characterization theorem, $W_t^{(3)}$ is a standard brownian motion. And we can write:\n",
    "\n",
    "$$dS_t^{(1)} = S_t^{(1)}((r_{USD}- r_{XAU}+ \\sigma_2^2 -\\sigma_2 \\sigma_3 \\rho_{23})dt + \\sigma_1 S_t^{(1)}dW_t^{(1)}$$"
   ]
  },
  {
   "cell_type": "markdown",
   "id": "e2c6d758",
   "metadata": {},
   "source": [
    "The law of cosines implies that:\n",
    "\n",
    "$$\n",
    "\\begin{align*}\n",
    "\\sigma_3^2 &= \\sigma_1^2 + \\sigma_2^2 - 2\\sigma_1 \\sigma_2 \\rho_{12}\\\\\n",
    "\\sigma_1^2 &= \\sigma_3^2 + \\sigma_2^2 - 2\\sigma_2 \\sigma_3 \\rho_{23}\n",
    "\\end{align*}\n",
    "$$\n",
    "\n",
    "which yields\n",
    "\n",
    "$$\n",
    "\\begin{align*}\n",
    " \\sigma_2^2 -  \\sigma_2 \\sigma_3 \\rho_{23}  &= \\sigma_1 \\sigma_2 \\rho_{12}\n",
    "\\end{align*}\n",
    "$$"
   ]
  },
  {
   "cell_type": "markdown",
   "id": "a8a1b30c",
   "metadata": {},
   "source": [
    "Inserting this into the equation for the dynamics of $S_t^{(1)}$, we have:\n",
    "\n",
    "$$dS_t^{(1)} = S_t^{(1)}((r_{USD}- r_{XAU}+ \\sigma_1 \\sigma_2 \\rho_{12})dt + \\sigma_1 S_t^{(1)}dW_t^{(1)}$$"
   ]
  },
  {
   "cell_type": "markdown",
   "id": "acf8ec20",
   "metadata": {},
   "source": [
    "## Quanto Vanilla\n",
    "\n",
    "Common among FX options is a quanto plain vanilla paying\n",
    "\n",
    "$$V_T = Q[(S_T - K)^{+}]$$\n",
    "\n",
    "where $S_T$ is the underlying for the FOR-DOM quotation. \n",
    "\n",
    "We can write the $\\mathbb{Q}$-dynamics of the FOR-DOM pair as:\n",
    "\n",
    "$$dS_t^{(1)} = S_t^{(1)}((r_{DOM}- r_{FOR}+ \\sigma_{1} \\sigma_{2} \\rho_{12})dt + \\sigma_1 S_t^{(1)}dW_t^{(1)})$$\n",
    "\n",
    "where $\\sigma_1$ is the volatility of the FOR-DOM, $\\sigma_2$ is the volatility of DOM-QUANTO and $\\rho_{12}$ is the correlation between FOR-DOM,DOM-QUANTO pairs. \n",
    "\n",
    "The solution to this SDE is:\n",
    "\n",
    "$$S_t^{(1)} = S_0^{(1)}\\exp\\left((r_{DOM}- r_{FOR}+ \\sigma_{1} \\sigma_{2} \\rho_{12} - \\frac{\\sigma_1^2}{2})t + \\sigma_1 S_t^{(1)}W_t^{(1)}\\right)$$"
   ]
  },
  {
   "cell_type": "markdown",
   "id": "c6f1c5e7",
   "metadata": {},
   "source": [
    "## Standard Black formula for Quanto Vanilla"
   ]
  },
  {
   "cell_type": "markdown",
   "id": "2487fa6e",
   "metadata": {},
   "source": [
    "Let $r_Q$ be the interest rate in the QUANTO currency. By the risk-neutral pricing formula, the value at time $t$ is:\n",
    "\n",
    "$$\n",
    "\\begin{align*}\n",
    "V(t,x) &= e^{-r_{Q}\\tau}Q\\mathbb{E}^{\\mathbb{Q}}[(S_T - K)\\cdot 1_{S_T > K}|\\mathcal{F}_t] \\\\\n",
    "&= e^{-r_{Q}\\tau}Q \\left[ \\mathbb{E}^{\\mathbb{Q}}[S_T \\cdot 1_{S_T > K}|\\mathcal{F}_t] -  K\\mathbb{E}^{\\mathbb{Q}}[ 1_{S_T > K}|\\mathcal{F}_t]\\right]\n",
    "\\end{align*}\n",
    "$$\n",
    "\n",
    "The two expectations are computed in the [standard way](https://quantophile.github.io/mathsummaries/post/2023/11/15/the-black-scholes-formula-for-a-european-call/), as in Black-Scholes theory. We get:\n",
    "\n",
    "$$\n",
    "\\begin{align*}\n",
    "V(t,S_t) &= e^{-r_{Q}\\tau}Q\\left[S_t e^{\\tilde{\\mu}\\tau}\\Phi(d_{+}(\\tau,S_t)) - K\\Phi(d_{-}(\\tau,S_t))\\right]\\\\\n",
    "d_{\\pm}(\\tau,x) &= \\frac{\\log\\frac{x}{K} + (\\tilde{\\mu}\\pm\\frac{\\sigma_1^2}{2})\\tau}\n",
    "{\\sigma\\sqrt{\\tau}}\\\\\n",
    "\\tilde{\\mu} &= r_{DOM} - r_{FOR} - \\sigma_1 \\sigma_2 \\rho_{12}\n",
    "\\end{align*}\n",
    "$$"
   ]
  },
  {
   "cell_type": "code",
   "execution_count": 12,
   "id": "75408e0b",
   "metadata": {},
   "outputs": [],
   "source": [
    "import numpy as np\n",
    "from scipy.stats import norm\n",
    "\n",
    "# ---------------------------------------\n",
    "# Black formula for European Quanto Call\n",
    "# ---------------------------------------\n",
    "\n",
    "def d_plus(tau,x,K,mu,sigma):\n",
    "    return (np.log(x/K) + (mu + (sigma**2)/2)*tau)/(sigma * np.sqrt(tau))\n",
    "\n",
    "def d_minus(tau,x,K,mu,sigma):\n",
    "    return (np.log(x/K) + (mu - (sigma**2)/2)*tau)/(sigma * np.sqrt(tau))\n",
    "\n",
    "def blackScholes(S_t,K,r_DOM,r_FOR,r_Q,tau,sigma_1,sigma_2,sigma_3,Q,notional):\n",
    "    rho_12 = (sigma_1**2 + sigma_2**2 - sigma_3**2)/(2*sigma_1*sigma_2)\n",
    "    mu = r_DOM - r_FOR - (sigma_1 * sigma_2 * rho_12)\n",
    "    d1 = d_plus(tau,S_t,K,mu,sigma_1)\n",
    "    d2 = d_minus(tau,S_t,K,mu,sigma_1)\n",
    "    phi_d_plus = norm.cdf(d1)\n",
    "    phi_d_minus = norm.cdf(d2)\n",
    "    df_quanto = np.exp(-r_Q * tau)\n",
    "    return (df_quanto * Q * (S_t * np.exp(mu * tau) * phi_d_plus - K * phi_d_minus))* notional\n"
   ]
  },
  {
   "cell_type": "code",
   "execution_count": 16,
   "id": "15d8cdd9",
   "metadata": {},
   "outputs": [
    {
     "name": "stdout",
     "output_type": "stream",
     "text": [
      "Quanto Call Option price = 35.9550188943399 EUR\n"
     ]
    }
   ],
   "source": [
    "# -----------------------------\n",
    "#   Inputs to the model\n",
    "# -----------------------------\n",
    "FOR = 'XAU'\n",
    "DOM = 'USD'\n",
    "QUANTO = 'EUR'\n",
    "\n",
    "notionalInQuantoCcy = 1\n",
    "strike = 810\n",
    "maturityInYears = 1.00\n",
    "FORDOM_spot = 800\n",
    "DOMQUANTO_spot = 1.00\n",
    "FORQUANTO_spot = FORDOM_spot * DOMQUANTO_spot\n",
    "FORDOM_vol = 0.10\n",
    "DOMQUANTO_vol = 0.12\n",
    "FORQUANTO_vol = 0.20591260281974003\n",
    "\n",
    "r_FOR = 0.005; r_DOM = 0.02; r_QUANTO = 0.04;\n",
    "\n",
    "quanto_call = blackScholes(\n",
    "                S_t = FORDOM_spot, \n",
    "                K = strike,\n",
    "                r_DOM = r_DOM,\n",
    "                r_FOR = r_FOR,\n",
    "                r_Q = r_QUANTO,\n",
    "                tau = maturityInYears,\n",
    "                sigma_1 = FORDOM_vol,\n",
    "                sigma_2 = DOMQUANTO_vol,\n",
    "                sigma_3 = FORQUANTO_vol,\n",
    "                Q = 1,\n",
    "                notional = notionalInQuantoCcy\n",
    "            )\n",
    "print(f\"Quanto Call Option price = {quanto_call} {QUANTO}\")"
   ]
  },
  {
   "cell_type": "code",
   "execution_count": 19,
   "id": "19c0f354",
   "metadata": {},
   "outputs": [
    {
     "data": {
      "image/png": "[encoded data removed]",
      "text/plain": [
       "<Figure size 640x480 with 1 Axes>"
      ]
     },
     "metadata": {},
     "output_type": "display_data"
    }
   ],
   "source": [
    "import matplotlib.pyplot as plt\n",
    "\n",
    "\n",
    "FORDOM_spot = np.linspace(700,900,201)\n",
    "quanto_prices = []\n",
    "\n",
    "for S_t in FORDOM_spot:\n",
    "    black_price = blackScholes(\n",
    "                    S_t = S_t, \n",
    "                    K = strike,\n",
    "                    r_DOM = r_DOM,\n",
    "                    r_FOR = r_FOR,\n",
    "                    r_Q = r_QUANTO,\n",
    "                    tau = maturityInYears,\n",
    "                    sigma_1 = FORDOM_vol,\n",
    "                    sigma_2 = DOMQUANTO_vol,\n",
    "                    sigma_3 = FORQUANTO_vol,\n",
    "                    Q = 1,\n",
    "                    notional = notionalInQuantoCcy\n",
    "            )\n",
    "    quanto_prices.append(black_price)\n",
    "\n",
    "    \n",
    "plt.grid(True)\n",
    "plt.xlabel(f\"{FOR}{DOM}\")\n",
    "plt.ylabel(r\"$V(t,S_t)$ in EUR\")\n",
    "plt.plot(FORDOM_spot,quanto_prices)\n",
    "plt.show(True)"
   ]
  },
  {
   "cell_type": "code",
   "execution_count": null,
   "id": "78ebbc7d",
   "metadata": {},
   "outputs": [],
   "source": []
  }
 ],
 "metadata": {
  "kernelspec": {
   "display_name": "Python 3 (ipykernel)",
   "language": "python",
   "name": "python3"
  },
  "language_info": {
   "codemirror_mode": {
    "name": "ipython",
    "version": 3
   },
   "file_extension": ".py",
   "mimetype": "text/x-python",
   "name": "python",
   "nbconvert_exporter": "python",
   "pygments_lexer": "ipython3",
   "version": "3.11.4"
  }
 },
 "nbformat": 4,
 "nbformat_minor": 5
}
