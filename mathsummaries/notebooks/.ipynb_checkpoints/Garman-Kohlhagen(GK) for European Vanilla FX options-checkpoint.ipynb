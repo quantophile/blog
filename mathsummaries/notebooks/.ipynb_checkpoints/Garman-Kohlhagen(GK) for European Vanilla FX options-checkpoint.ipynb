{
 "cells": [
  {
   "cell_type": "markdown",
   "id": "fd4428fe",
   "metadata": {},
   "source": [
    "## FX Options.\n",
    "\n",
    "Let $R(t)$ be an exchange-rate such as EURUSD. Suppose it has the dynamics:\n",
    "\n",
    "$$dR(t)=\\mu R(t) dt + \\sigma R(t) dW^{\\mathbb{P}}(t)\\tag{1}$$\n",
    "\n",
    "Suppose we have a foreign money market account $M^{f}(t)$. The value of the foreign money market account in domestic currency is $M^{f}(t)R(t)$, where $R(t)$ is the exchange rate. \n",
    "\n",
    "Consider the discounted value of the foreign money market account (in domestic currency). We have:\n",
    "\n",
    "$$\n",
    "\\begin{align*}\n",
    "d(M^{f}(t)R(t)D(t)) &= d(M^f(t))R(t)D(t) + M^{f}(t) d(R(t)D(t))  \\\\\n",
    "&= r_{FOR}M^{f}(t)R(t)D(t)dt + M^{f}(t)(dR(t)D(t) + R(t)dD(t))\\\\\n",
    "&= r_{FOR}M^{f}(t)R(t)D(t)dt +  M^{f}(t)R(t)D(t)((\\mu dt + \\sigma dW_t^{\\mathbb{P}}) - r_{DOM}(t)dt)\\\\\n",
    "&= M^{f}(t)R(t)D(t)(\\mu + r_{FOR}- r_{DOM})dt + \\sigma dW^{\\mathbb{P}}(t)) \\tag{2}\n",
    "\\end{align*}\n",
    "$$\n",
    "\n",
    "We know that the discounted price of any asset is a martingale under the domestic money market account measure $\\mathbb{Q}^d$. Thus, let $\\theta = \\frac{\\mu + r_{FOR}- r_{DOM}}{\\sigma}$.\n",
    "\n",
    "We are interested to write:\n",
    "\n",
    "$$\n",
    "\\begin{align*}\n",
    "d(M^{f}(t)R(t)D(t)) &= M^{f}(t)R(t)D(t)(\\sigma dW^{\\mathbb{Q}^d}(t)) \\tag{3}\n",
    "\\end{align*}\n",
    "$$\n",
    "\n",
    "Thus, we define the radon-nikodym derivative as:\n",
    "\n",
    "$$Z := \\frac{d\\mathbb{Q}^d}{d\\mathbb{P}} = \\exp\\left[-\\theta W^{\\mathbb{P}}(T) - \\frac{\\theta^2}{2}T\\right]\\tag{4}$$\n",
    "\n",
    "$$dW^{\\mathbb{Q}^d}(t) = \\theta dt + dW^{\\mathbb{P}^d}(t)\\tag{5}$$\n",
    "\n",
    "Then, by the Girsanov theorem, $W^{\\mathbb{Q}^d}(t)$ is a standard brownian motion and $M^{f}(t)R(t)D(t)$ is a martingale."
   ]
  },
  {
   "cell_type": "markdown",
   "id": "4ebf8c41",
   "metadata": {},
   "source": [
    "### Drift of the exchange rate process $R(t)$ under $\\mathbb{Q}^d$.\n"
   ]
  },
  {
   "cell_type": "markdown",
   "id": "4ab57e6d",
   "metadata": {},
   "source": [
    "By Ito's formula, it follows that:\n",
    "\n",
    "$$\n",
    "\\begin{align*}\n",
    "d(M^{f}(t)R(t)) &= d(M^f(t)R(t)D(t))M(t) + M^{f}(t)R(t)D(t)dM(t)  \\\\\n",
    "&= M^{f}(t)R(t)D(t)(\\sigma dW^{\\mathbb{Q}^d}(t)) M(t) + M^{f}(t)R(t)D(t)r_{DOM}M(t)dt \\\\\n",
    "&= M^{f}(t)R(t)(r_{DOM}dt + dW^{\\mathbb{Q}^d}(t))\n",
    "\\end{align*}\n",
    "$$\n",
    "\n",
    "Intuitively, this is what we'd expect, the mean rate of growth of every asset (which is denominated in the same currency as $M(t)$ is the domestic risk-free rate. However, the drift of the exchange rate process is:\n",
    "\n",
    "$$\n",
    "\\begin{align*}\n",
    "d(R(t)) &= d(M^f(t)R(t))D^{f}(t) + M^{f}(t)R(t)dD^{f}(t)  \\\\\n",
    "&= M^{f}(t)R(t)(r_{DOM}dt + \\sigma dW^{\\mathbb{Q}^d}(t))D^{f}(t) - M^{f}(t)R(t)r_{FOR}(t)D^{f}(t)dt\\\\\n",
    "&= M^{f}(t)R(t)D^{f}(t)((r_{DOM} - r_{FOR})dt + \\sigma dW^{\\mathbb{Q}^d}(t))\\\\\n",
    "&= R(t)((r_{DOM} - r_{FOR})dt + \\sigma dW^{\\mathbb{Q}^d}(t))\n",
    "\\end{align*}\n",
    "$$\n",
    "\n",
    "The solution to the above SDE is:\n",
    "\n",
    "$$R(t) = R(0)\\exp\\left[\\left(r_{DOM} - r_{FOR}-\\frac{\\sigma^2}{2}\\right)t + \\sigma W^{\\mathbb{Q}^d}(t)\\right] \\tag{6}$$"
   ]
  },
  {
   "cell_type": "markdown",
   "id": "dd5ff827",
   "metadata": {},
   "source": [
    "### Drift of the exchange rate process $1/R(t)$ under $\\mathbb{Q}^f$.\n",
    "\n",
    "From a foreign perspective, the exchange rate is USDEUR or $1/R(t)$. Intuitively, we expect the mean rate of growth of $1/R(t)$ under the foreign risk-neutral measure to be $r_{FOR} - r_{DOM}$. This indeed turns out to be the case.\n",
    "\n",
    "Consider the domestic money market account $M(t)$. Its value in the foreign currency expressed in terms of shares of the foreign money market account $M^f(t)$ is $\\frac{M(t)}{R(t)}D^{f}(t)$. This must be a martingale under the foreign-risk neutral measure $\\mathbb{Q}^f$. We have:\n",
    "\n",
    "$$\n",
    "\\begin{align*}\n",
    "d\\left(\\frac{1}{R(t)}\\right) &= -\\frac{1}{R^2(t)}dR(t) + \\frac{1}{2}\\cdot \\frac{2}{R^3(t)}dR(t)\\cdot dR(t)\\\\\n",
    "&= -\\frac{1}{R(t)}\\left[\\mu dt + \\sigma dW^{\\mathbb{P}}(t)\\right] + \\frac{1}{R(t)}\\sigma^2 dt\\\\\n",
    "&= \\frac{1}{R(t)}((\\sigma^2 - \\mu) dt - \\sigma dW^{\\mathbb{P}}(t)) \n",
    "\\end{align*}\n",
    "$$"
   ]
  },
  {
   "cell_type": "markdown",
   "id": "e6a56d2d",
   "metadata": {},
   "source": [
    "So, we may write:\n",
    "\n",
    "$$\n",
    "\\begin{align*}\n",
    "d\\left(\\frac{M(t)}{R(t)}\\right) &= M(t)d\\left(\\frac{1}{R(t)}\\right) + dM(t)\\frac{1}{R(t)}\\\\\n",
    "&= \\frac{M(t)}{R(t)}((\\sigma^2 - \\mu) dt - \\sigma dW^{\\mathbb{P}}(t)) + \\frac{M(t)}{R(t)}r_{DOM}dt\\\\\n",
    "&= \\frac{M(t)}{R(t)}((r_{DOM} - \\mu + \\sigma^2) dt - \\sigma dW^{\\mathbb{P}}(t))\n",
    "\\end{align*}\n",
    "$$\n",
    "\n",
    "And\n",
    "\n",
    "$$\n",
    "\\begin{align*}\n",
    "d\\left(\\frac{M(t)D^{f}(t)}{R(t)}\\right) &= d\\left(\\frac{M(t)}{R(t)}\\right)D^{f}(t) + dD^{f}(t)\\frac{M(t)}{R(t)}\\\\\n",
    "&=\\frac{M(t)}{R(t)}D^{f}(t)((r_{DOM} - \\mu + \\sigma^2) dt - \\sigma dW^{\\mathbb{P}}(t))-r_{FOR} D^{f}(t)\\frac{M(t)}{R(t)}dt\\\\\n",
    "&=\\frac{M(t)}{R(t)}D^{f}(t)((r_{DOM} -r_{FOR} - \\mu + \\sigma^2)dt - \\sigma dW^{\\mathbb{P}}(t))\n",
    "\\end{align*}\n",
    "$$\n",
    "\n",
    "Let $\\nu = -\\frac{(r_{DOM} -r_{FOR} - \\mu + \\sigma^2)}{\\sigma}$ and define the Radon-Nikodym derivative as:\n",
    "\n",
    "$$\n",
    "\\begin{align*}\n",
    "dW^{\\mathbb{Q}^f}(t) &= \\nu dt +  dW^{\\mathbb{P}}(t)\\\\\n",
    "Y_T &:= \\frac{d\\mathbb{Q}^f}{d\\mathbb{P}} = \\exp\\left[-\\nu W^{\\mathbb{P}}(T) - \\frac{1}{2}\\nu^2 T\\right] \\tag{7}\n",
    "\\end{align*}\n",
    "$$"
   ]
  },
  {
   "cell_type": "markdown",
   "id": "99a27c2e",
   "metadata": {},
   "source": [
    "By the Girsanov theorem, $W^{\\mathbb{Q}^f}(t)$ is a standard brownian motion under the foreign risk-neutral measure $\\mathbb{Q}^f$. We may write:\n",
    "\n",
    "$$d\\left(\\frac{M(t)D^{f}(t)}{R(t)}\\right) = -\\frac{M(t)D^{f}(t)}{R(t)}\\sigma dW^{\\mathbb{Q}^f}(t)$$"
   ]
  },
  {
   "cell_type": "markdown",
   "id": "bdccf9bd",
   "metadata": {},
   "source": [
    "Using Ito Calculus, we have:\n",
    "\n",
    "$$\n",
    "\\begin{align*}\n",
    "d\\left(\\frac{M(t)}{R(t)}\\right) &= d\\left(\\frac{M(t)D^{f}(t)}{R(t)}\\right) M^{f}(t) + \\frac{M(t)D^{f}(t)}{R(t)}dM^{f}(t) \\\\\n",
    "&= -\\frac{M(t)}{R(t)}\\sigma dW^{\\mathbb{Q}^f}(t) + \\frac{M(t)}{R(t)}r_{FOR}dt\n",
    "\\end{align*}\n",
    "$$\n",
    "\n",
    "and\n",
    "\n",
    "$$\n",
    "\\begin{align*}\n",
    "d\\left(\\frac{1}{R(t)}\\right) &= \\frac{1}{R(t)}((r_{FOR}-r_{DOM})dt - \\sigma dW^{\\mathbb{Q}^f}(t))\n",
    "\\end{align*}\n",
    "$$\n",
    "\n",
    "The solution to this SDE is:\n",
    "\n",
    "$$\\frac{1}{R(t)} = \\frac{1}{R(0)}\\exp \\left[(r_{FOR}-r_{DOM} - \\frac{\\sigma^2}{2})t - \\sigma W^{\\mathbb{Q}^f}(t)\\right]$$\n",
    "\n",
    "The flipped rate is:\n",
    "\n",
    "$$R(t) = R(0) \\exp \\left[(r_{DOM}-r_{FOR} + \\frac{\\sigma^2}{2})t + \\sigma W^{\\mathbb{Q}^f}(t)\\right] \\tag{8}$$\n",
    "\n",
    "which satisfies \n",
    "\n",
    "$$dR(t) = (r_{DOM} - r_{FOR} + \\sigma^2)dt + \\sigma dW^{\\mathbb{Q}^f}(t)\\tag{9}$$"
   ]
  },
  {
   "cell_type": "markdown",
   "id": "0b89abd1",
   "metadata": {},
   "source": [
    "## Valuation of European Options\n",
    "\n",
    "Consider a European call option with the payout function $v_T = \\max{R_T - K,0}=(R_T - K)^{+}$. By the risk-neutral pricing formula, we have:\n",
    "\n",
    "$$\n",
    "\\begin{align*}\n",
    "V_0 &= e^{-r_{DOM}T}\\mathbb{E}^{\\mathbb{Q}^d}[(R_T - K)^{+}]\\\\\n",
    "&= e^{-r_{DOM}T}\\mathbb{E}^{\\mathbb{Q}^d}[(R_T - K)1_{R_T > K}]\\\\\n",
    "&= e^{-r_{DOM}T} \\mathbb{E}^{\\mathbb{Q}^d}[R_T 1_{R_T > K}] - e^{-r_{DOM}T}\\mathbb{E}^{\\mathbb{Q}^d}[K \\cdot 1_{R_T > K}]\\\\\n",
    "&= e^{-r_{DOM}T} \\mathbb{E}^{\\mathbb{Q}^d}[R_T 1_{R_T > K}] - Ke^{-r_{DOM}T}\\mathbb{E}^{\\mathbb{Q}^d}[1_{R_T > K}]\\\\\n",
    "&= e^{-r_{DOM}T} \\mathbb{E}^{\\mathbb{Q}^d}[R_T 1_{R_T > K}] - Ke^{-r_{DOM}T}{\\mathbb{Q}^d}[{R_T > K}] \\tag{10}\n",
    "\\end{align*}\n",
    "$$"
   ]
  },
  {
   "cell_type": "markdown",
   "id": "00ca4bcf",
   "metadata": {},
   "source": [
    "Computation of $\\mathbb{Q}^d[R_T \\geq K]$, that is the domestic risk-neutral probability that $R_T \\geq K$ is relatively trivial as we know the distributution of $R_T$. The other component requires a Radon-Nikodym change of measure argument, which in FX has a nice symmetry to it.\n",
    "\n",
    "$$\n",
    "\\frac{d\\mathbb{Q}^f}{d\\mathbb{Q}^d} = \\exp\\left[-(\\nu - \\theta)W^{\\mathbb{Q}^d}(T) - \\frac{1}{2}(\\nu - \\theta)^2 T\\right]\\tag{11}\n",
    "$$\n",
    "\n",
    "$$\n",
    "\\begin{align*}\n",
    "W^{\\mathbb{Q}^f} &= (\\nu-\\theta)T + W^{\\mathbb{Q}^d} \\tag{12}\n",
    "\\end{align*}\n",
    "$$\n",
    "\n",
    "But, the drift $\\nu - \\theta = -\\sigma$, so the above expressions become:\n",
    "\n",
    "$$\n",
    "\\frac{d\\mathbb{Q}^f}{d\\mathbb{Q}^d} = \\exp\\left[\\sigma W^{\\mathbb{Q}^d}(T) - \\frac{1}{2}\\sigma^2 T\\right]\\tag{13}\n",
    "$$\n",
    "\n",
    "$$\n",
    "W^{\\mathbb{Q}^f} = -\\sigma T + W^{\\mathbb{Q}^d} \\tag{14}\n",
    "$$"
   ]
  },
  {
   "cell_type": "markdown",
   "id": "25b9b5a9",
   "metadata": {},
   "source": [
    "We can now use (13) or (14) to complete (10). Consider $\\mathbb{E}^{\\mathbb{Q}^d}[R_T 1_{R_T \\geq K}]$. We have:\n",
    "\n",
    "$$\n",
    "\\begin{align*}\n",
    "\\mathbb{E}^{\\mathbb{Q}^d}[R_T \\cdot 1_{R_T \\geq K}] &= \\mathbb{E}^{\\mathbb{Q}^d}\\left[R(0)\\exp\\left\\{\\left(r_{DOM} - r_{FOR}-\\frac{\\sigma^2}{2}\\right)T + \\sigma W^{\\mathbb{Q}^d}(T)\\right\\}\\cdot 1_{R_T \\geq K}\\right]\\\\\n",
    "&=  R(0)e^{(r_{DOM} - r_{FOR})T}\\mathbb{E}^{\\mathbb{Q}^d}\\left[\\exp\\left\\{-\\frac{\\sigma^2}{2}T + \\sigma W^{\\mathbb{Q}^d}(T)\\right\\}\\cdot 1_{R_T \\geq K}\\right]\\\\\n",
    "&=  R(0)e^{(r_{DOM} - r_{FOR})T}\\mathbb{E}^{\\mathbb{Q}^d}\\left[\\frac{d\\mathbb{Q}^f}{d\\mathbb{Q}^d}\\cdot 1_{R_T \\geq K}\\right]\\\\\n",
    "&=  R(0)e^{(r_{DOM} - r_{FOR})T}\\mathbb{E}^{\\mathbb{Q}^f}[1_{R_T \\geq K}]\\\\\n",
    "&=  R(0)e^{(r_{DOM} - r_{FOR})T}{\\mathbb{Q}^f}[{R_T \\geq K}] \\tag{15}\n",
    "\\end{align*}\n",
    "$$"
   ]
  },
  {
   "cell_type": "markdown",
   "id": "bd15a75f",
   "metadata": {},
   "source": [
    "We therefore have:\n",
    "\n",
    "$$\n",
    "V_0 = R(0)e^{-r_{FOR}T} \\mathbb{Q}^f[R_T \\geq K] - Ke^{-r_{DOM}T}\\mathbb{Q}^d[R_T \\geq K] \\tag{16}\n",
    "$$"
   ]
  },
  {
   "cell_type": "markdown",
   "id": "4479b30d",
   "metadata": {},
   "source": [
    "### Calculating the two risk-neutral probabilities $\\mathbb{Q}^f[R_T \\geq K]$ and $\\mathbb{Q}^d[R_T \\geq K]$\n",
    "\n",
    "We now need to calculate the two risk-neutral probabilities (in $\\mathbb{Q}^d$ and $\\mathbb{Q}^f$) that $S_T \\geq K$. We have: "
   ]
  },
  {
   "cell_type": "markdown",
   "id": "8ab11d3c",
   "metadata": {},
   "source": [
    "$$R(t) = R(0)\\exp\\left[\\left(r_{DOM} - r_{FOR}-\\frac{\\sigma^2}{2}\\right)t + \\sigma W^{\\mathbb{Q}^d}(t)\\right] \\tag{17a}$$\n",
    "\n",
    "$$R(t) = R(0) \\exp \\left[(r_{DOM}-r_{FOR} + \\frac{\\sigma^2}{2})t + \\sigma W^{\\mathbb{Q}^f}(t)\\right] \\tag{17b}$$"
   ]
  },
  {
   "cell_type": "markdown",
   "id": "02975dde",
   "metadata": {},
   "source": [
    "We can unify the notation by introducing the index $i$ which takes the values in $\\{1,2\\}$ and $X(\\cdot)$ defined such that $X(1) \\equiv f$"
   ]
  },
  {
   "cell_type": "code",
   "execution_count": null,
   "id": "a423b3f0",
   "metadata": {},
   "outputs": [],
   "source": []
  }
 ],
 "metadata": {
  "kernelspec": {
   "display_name": "Python 3 (ipykernel)",
   "language": "python",
   "name": "python3"
  },
  "language_info": {
   "codemirror_mode": {
    "name": "ipython",
    "version": 3
   },
   "file_extension": ".py",
   "mimetype": "text/x-python",
   "name": "python",
   "nbconvert_exporter": "python",
   "pygments_lexer": "ipython3",
   "version": "3.11.4"
  }
 },
 "nbformat": 4,
 "nbformat_minor": 5
}
