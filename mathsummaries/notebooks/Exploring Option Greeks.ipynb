{
 "cells": [
  {
   "cell_type": "markdown",
   "id": "7eb55253",
   "metadata": {},
   "source": [
    "## Introduction.\n",
    "\n",
    "I derived the Black-Scholes formula for European style vanilla FX options in a previous post [here](https://quantophile.github.io/mathsummaries/post/2023/11/19/garman-kohlhagen-for-european-vanilla-fx-options/). The Black-Scholes model $Bl(S_0,K,T,r_{DOM},r_{FOR},\\sigma)$ equipped with a single flat volatility parameter $\\sigma$ produces option prices which are **NOT consistent** with the observed market prices of FX options across different strikes and maturities. "
   ]
  },
  {
   "cell_type": "markdown",
   "id": "a0c87de5",
   "metadata": {},
   "source": [
    "Although, the BS model suffers many flaws, it is still often used, at least for quoting purposes. Since all of the other inputs into the model - market data variables such as the stock price $S_0$, the domestic depo rate $r_{DOM}$, the foreign depo rate $r_{FOR}$, and the parameters such as option strike $K$, the time-to-maturity $T$, can be either seen in the market or are known constants, we can easily solve for the value $\\sigma_{\\text{imp}}$ of the parameter $\\sigma$ such that:\n",
    "\n",
    "$$Bl(S_0,K,T,r_{DOM},r_{FOR},\\sigma_{\\text{imp}}) = V_{\\text{market}}$$"
   ]
  },
  {
   "cell_type": "markdown",
   "id": "17c0e68b",
   "metadata": {},
   "source": [
    "This value $\\sigma_{\\text{imp}}$ implied from the market price of the option is called the **implied volatility**. \n",
    "\n",
    "Thus, although the BS model suffers from flaws, it is mainly used as a quote converter. In the FX options market, option prices are quoted in terms of implied volatilities. The BS formula is used to convert implied vols $\\sigma_{\\text{imp}}$ to prices and vice versa. The delta hedge to be exchanged between counterparties is calculated according to the BS formula, and this is also true for the Vega hedge of various exotic options. In many cases, the model is also used to run trading books. \n",
    "\n",
    "Market conventions used in the FX markets are usually specified in terms of the price and vol attributes of options with various delta characteristics. So, it's nice to explore the intricacies of various types of FX delta and how they are used in the description of market volatility surfaces. The entire concept of the FX volatility smile is based on the parametrization with respect to delta. \n",
    "\n",
    "I walk-through the various market conventions used in practice."
   ]
  },
  {
   "cell_type": "markdown",
   "id": "c77686a8",
   "metadata": {},
   "source": [
    "## Quote style conversions.\n",
    "\n",
    "In FX markets, options are quoted in one of 4 quote styles - domestic per foreign (d/f), percentage foreign (%f), percentage domestic (%d) and foreign per domestic (f/d). \n",
    "\n",
    "The standard Black-Scholes formula is:\n",
    "\n",
    "$$\n",
    "\\begin{align}\n",
    "V_{d/f} &= \\omega [S_0 e^{-r_{FOR} T} \\Phi(d_{+}) - K e^{-r_{DOM}T} \\Phi(d_{-})\\\\\n",
    "&= \\omega e^{-r_{DOM}T}[F \\Phi(d_{+}) - K  \\Phi(d_{-})]\n",
    "\\end{align}\n",
    "$$"
   ]
  },
  {
   "cell_type": "markdown",
   "id": "1d22a78f",
   "metadata": {},
   "source": [
    "Whether a call or a put, it is an option to exchange $K$ units of the domestic currency for $1$ unit of the foreign currency, valued in domestic currency - so it is the domestic/foreign price. \n",
    "\n",
    "If we want to express the above as a CCY1/CCY1 price, the conversion is easy : we just take the CCY2/CCY1 price above and convert the CCY2 value into CCY1 terms using today's spot rate $S_0$:\n",
    "\n",
    "$$\n",
    "V_{\\text{% f}} = \\frac{\\omega}{S_0}e^{-r_{DOM}T}[F\\Phi(\\omega d_{+}) - K\\Phi(\\omega d_{-})] = \\frac{V_{d/f}}{S_0}\n",
    "$$"
   ]
  },
  {
   "cell_type": "markdown",
   "id": "12af2742",
   "metadata": {},
   "source": [
    "For the %CCY2 price, we start with the CCY2/CCY1 price, this being the price in CCY2 of an option with a unit notional in the foreign currency. Since the strike is predetermined, it is also the price in CCY2 of an option with a notional of $K$ in CCY2. So, the CCY1/CCY2 price divided by $K$, is the $%ccy2$ price i.e. the percentage domestic price:\n",
    "\n",
    "$$V_{\\%d} = \\frac{\\omega}{K} e^{-r_{DOM}T}[F \\Phi(d_{+}) - K e^{-r_{DOM}T} \\Phi(d_{-})] = \\frac{V_{d/f}}{K}$$"
   ]
  },
  {
   "cell_type": "markdown",
   "id": "e7f9af67",
   "metadata": {},
   "source": [
    "The ccy1/ccy2 price is the price you need to pay in foreign currency for an option on $1$ unit notional of the domestic currency.\n",
    "\n",
    "$$V_{f/d} = \\frac{V_{\\% d}}{S_0} = \\frac{V_{d/f}}{S_0 K}$$"
   ]
  },
  {
   "cell_type": "markdown",
   "id": "4125bd84",
   "metadata": {},
   "source": [
    "The four prices above are relative to the notionals of $K$ in the domestic currency and $1$ in the foreign currency. If the actual notionals are $N_d$ and $N_f$ in domestic and foreign currencies where $N_d = K \\cdot N_f$, then we scale accordingly."
   ]
  },
  {
   "cell_type": "markdown",
   "id": "d3c1294b",
   "metadata": {},
   "source": [
    "### Implementing the Bl Calculator and Option Greeks."
   ]
  },
  {
   "cell_type": "code",
   "execution_count": 26,
   "id": "3d019947",
   "metadata": {},
   "outputs": [],
   "source": [
    "# Author. Quasar C.\n",
    "# Date. 19-11-2023\n",
    "\n",
    "import numpy as np\n",
    "from scipy.stats import norm\n",
    "\n",
    "# An FX option is the right to exchange 1 unit notional of the foreign currency for K units of the domestic currency at time T. \n",
    "\n",
    "class CallPut(Enum):\n",
    "    CALL_OPTION = 1\n",
    "    PUT_OPTION = -1\n",
    "        \n",
    "def atTheMoneyForward(S_t,K,t,T,r_DOM,r_FOR,sigma):\n",
    "    foreignDF = np.exp(-r_FOR*(T-t))\n",
    "    domesticDF = np.exp(-r_DOM*(T-t))\n",
    "    fwdPoints = foreignDF / domesticDF\n",
    "    F = fwdPoints * S_t\n",
    "    return F\n",
    "        \n",
    "def dPlus(S_t,K,t,T,r_DOM,r_FOR,sigma):\n",
    "    F = atTheMoneyForward(S_t,K,t,T,r_DOM,r_FOR,sigma)\n",
    "    return (np.log(F/K) + (T-t)*(sigma**2)/2)/(sigma * np.sqrt(T - t))\n",
    "\n",
    "def dMinus(S_t,K,t,T,r_DOM,r_FOR,sigma):\n",
    "    F = atTheMoneyForward(S_t,K,t,T,r_DOM,r_FOR,sigma)\n",
    "    return (np.log(F/K) - (T-t)*(sigma**2)/2)/(sigma * np.sqrt(T - t))\n",
    "\n",
    "def PV(S_t,K,t,T,r_DOM,r_FOR,sigma, CCY1Notional,callPut):\n",
    "    F = atTheMoneyForward(S_t,K,t,T,r_DOM,r_FOR,sigma)\n",
    "    omega = callPut.value\n",
    "    d_plus = dPlus(S_t,K,t,T,r_DOM,r_FOR,sigma)\n",
    "    d_minus = dMinus(S_t,K,t,T,r_DOM,r_FOR,sigma)\n",
    "    domesticDF = np.exp(-r_DOM*(T-t))\n",
    "    \n",
    "    undiscountedPrice = omega* (F * norm.cdf(omega * d_plus) - K * norm.cdf(omega * d_minus))\n",
    "    pv = domesticDF * undiscountedPrice * CCY1Notional\n",
    "    return pv"
   ]
  },
  {
   "cell_type": "markdown",
   "id": "f75ef5dd",
   "metadata": {},
   "source": [
    "#### Computing the ATM-Forward and the option price"
   ]
  },
  {
   "cell_type": "code",
   "execution_count": 27,
   "id": "401a5559",
   "metadata": {},
   "outputs": [],
   "source": [
    "S_t=1.0549 ; K=1.0710 ; t=0.0 ;T=1.0 ; r_DOM=0.041039868 ; r_FOR= 0.025860353; sigma=0.08971 ; CCY1Notional=100.00\n",
    "\n",
    "ATMForward = atTheMoneyForward(S_t,K,t,T,r_DOM,r_FOR,sigma)\n",
    "\n",
    "call_price = PV(S_t,K,t,T,r_DOM,r_FOR,sigma, CCY1Notional,callPut = CallPut.CALL_OPTION)\n",
    "put_price = PV(S_t,K,t,T,r_DOM,r_FOR,sigma, CCY1Notional,callPut = CallPut.PUT_OPTION)"
   ]
  },
  {
   "cell_type": "code",
   "execution_count": 28,
   "id": "d8ee2bd6",
   "metadata": {},
   "outputs": [
    {
     "name": "stdout",
     "output_type": "stream",
     "text": [
      "At the money forward = 1.0710350214586397 USD\n",
      "Call Price = 3.679399488751329 USD\n",
      "Put Price = 3.676038161145839 USD\n"
     ]
    }
   ],
   "source": [
    "print(f\"At the money forward = {ATMForward} USD\")\n",
    "print(f\"Call Price = {call_price} USD\")\n",
    "print(f\"Put Price = {put_price} USD\")"
   ]
  },
  {
   "cell_type": "markdown",
   "id": "34759374",
   "metadata": {},
   "source": [
    "#### Plotting the option price against the CCY1CCY2 spot"
   ]
  },
  {
   "cell_type": "code",
   "execution_count": 29,
   "id": "ce2ed657",
   "metadata": {},
   "outputs": [
    {
     "data": {
      "image/png": "[encoded data removed]",
      "text/plain": [
       "<Figure size 640x480 with 1 Axes>"
      ]
     },
     "metadata": {},
     "output_type": "display_data"
    }
   ],
   "source": [
    "import matplotlib.pyplot as plt\n",
    "\n",
    "plt.grid(True)\n",
    "plt.title('Plot of EUR Call/USD Put Option price')\n",
    "S_t = np.linspace(0.90,1.24,201)\n",
    "CCY1Notional = 1.00\n",
    "\n",
    "call_price_1y = PV(S_t,K,t,1.0,r_DOM,r_FOR,sigma, CCY1Notional,callPut = CallPut.CALL_OPTION)\n",
    "\n",
    "plt.xlabel(r'EURUSD FX spot')\n",
    "plt.xlabel(r'Option price (USD)')\n",
    "plt.plot(S_t,call_price_1y)\n",
    "\n",
    "plt.show()\n"
   ]
  },
  {
   "cell_type": "code",
   "execution_count": 30,
   "id": "0c43197e",
   "metadata": {},
   "outputs": [
    {
     "data": {
      "image/png": "[encoded data removed]",
      "text/plain": [
       "<Figure size 640x480 with 1 Axes>"
      ]
     },
     "metadata": {},
     "output_type": "display_data"
    }
   ],
   "source": [
    "plt.close()\n",
    "\n",
    "plt.grid(True)\n",
    "plt.title('Plot of EUR Put/USD Call Option price')\n",
    "\n",
    "put_price_1y = PV(S_t,K,t,1.0,r_DOM,r_FOR,sigma, CCY1Notional,callPut = CallPut.PUT_OPTION)\n",
    "\n",
    "\n",
    "plt.xlabel(r'EURUSD FX spot')\n",
    "plt.xlabel(r'Option price (USD)')\n",
    "\n",
    "plt.plot(S_t,put_price_1y)\n",
    "\n",
    "plt.show()"
   ]
  },
  {
   "cell_type": "markdown",
   "id": "7c69dd05",
   "metadata": {},
   "source": [
    "To derive the deltas, we use the following propositions, which are really easy to prove.\n",
    "\n",
    "***Proposition.*** \n",
    "\n",
    "$$\\frac{\\partial d_{+}}{\\partial S_0} = \\frac{\\partial d_{-}}{\\partial S_0} = \\frac{1}{\\sigma S_0 \\sqrt{T}}$$\n"
   ]
  },
  {
   "cell_type": "markdown",
   "id": "3010c41f",
   "metadata": {},
   "source": [
    "***Proof***.\n",
    "\n",
    "We have:\n",
    "\n",
    "$$\n",
    "\\begin{align*}\n",
    "d_{\\pm} &= \\frac{\\log {S_0}}{\\sigma \\sqrt{T}} - \\frac{\\log {K} + (r \\pm \\sigma^2/2)T}{\\sigma \\sqrt{T}}\\\\\n",
    "\\frac{\\partial d_{\\pm}}{\\partial S_0}&= \\frac{1}{\\sigma\\sqrt{T}}\\frac{1}{S_0}\n",
    "\\end{align*}\n",
    "$$"
   ]
  },
  {
   "cell_type": "markdown",
   "id": "39dca852",
   "metadata": {},
   "source": [
    "***Proposition.***\n",
    "\n",
    "$$\\frac{\\partial \\Phi(\\omega d_{\\pm})}{\\partial S_0} = \\frac{\\omega}{\\sigma S_0 \\sqrt{T}}\\phi(\\omega d_{\\pm})$$"
   ]
  },
  {
   "cell_type": "markdown",
   "id": "856aca6d",
   "metadata": {},
   "source": [
    "***Proof.***\n",
    "\n",
    "By chain rule, we have:\n",
    "\n",
    "$$\n",
    "\\begin{align*}\n",
    "\\frac{\\partial\\Phi(\\omega d_{\\pm})}{\\partial S_0} &= \\phi(\\omega d_{\\pm}) \\frac{\\partial (\\omega d_{\\pm})}{dS_0} \\\\\n",
    "&= \\phi(\\omega d_{\\pm}) \\frac{\\omega}{\\sigma S_0 \\sqrt{T}}\n",
    "\\end{align*}\n",
    "$$"
   ]
  },
  {
   "cell_type": "markdown",
   "id": "e19089b6",
   "metadata": {},
   "source": [
    "***Proposition***. The following general result holds:\n",
    "\n",
    "$$\\phi(\\omega d_{+}) = \\phi(\\omega d_{-})\\exp(\\omega^2 [r_{FOR} - r_{DOM}]T)(K/S_0)^{\\omega^2}$$"
   ]
  },
  {
   "cell_type": "markdown",
   "id": "a1d94981",
   "metadata": {},
   "source": [
    "***Proof.***\n",
    "\n",
    "We have:\n",
    "\n",
    "$$\n",
    "d_{+} + d_{-} = 2 \\frac{\\log (S_0/K) + (r_{FOR} - r_{DOM})T}{\\sigma \\sqrt{T}}\n",
    "$$\n",
    "\n",
    "$$\n",
    "d_{+} - d_{-} = \\sigma\\sqrt{T}\n",
    "$$\n",
    "\n",
    "$$\n",
    "\\begin{align*}\n",
    "\\frac{\\phi(\\omega d_{+})}{\\phi(\\omega d_{-})} &= \\exp\\left[-\\omega^2\\left(\\frac{d_{+}^2-d_{-}^2}{2}\\right)\\right]\\\\\n",
    "&= \\exp\\left[-\\omega^2(\\log (S_0/K) + (r_{DOM} - r_{FOR})T)\\right]\\\\\n",
    "&= \\exp\\left[\\omega^2((r_{FOR} - r_{DOM})T)\\right](K/S_0)^{\\omega^2}\n",
    "\\end{align*}\n",
    "$$"
   ]
  },
  {
   "cell_type": "markdown",
   "id": "42f21b88",
   "metadata": {},
   "source": [
    "### Pips Spot Delta\n",
    "\n",
    "The pips spot delta is simply the derivative of the option price with respect to the spot rate - both expressed in ccy2/ccy1 terms.\n",
    "\n",
    "$$\\Delta_{S;\\text{pips}} = \\frac{\\partial V_{d;\\text{pips}}}{\\partial S_0}$$"
   ]
  },
  {
   "cell_type": "markdown",
   "id": "b1798d5e",
   "metadata": {},
   "source": [
    "Thus,\n",
    "\n",
    "$$\n",
    "\\begin{align*}\n",
    "\\frac{\\partial V_{\\text{d;pips}}}{\\partial S_0} &= \\omega\\frac{\\partial }{\\partial S_0} \\left[(S_0 e^{-r_{FOR}T} \\Phi(\\omega d_{+}) - K e^{-r_{DOM}T}\\Phi(\\omega d_{-})\\right)]\\\\\n",
    "&= \\omega \\left[e^{-r_{FOR}T} \\Phi(\\omega d_{+}) + S_0 e^{-r_{FOR}T} \\phi (\\omega d_{+})\\frac{\\omega}{\\sigma S_0 \\sqrt{T}} - K e^{-r_{DOM}T}\\phi (\\omega d_{-})\\frac{\\omega}{\\sigma S_0 \\sqrt{T}}\\right]\\\\\n",
    "&= \\omega e^{-r_{FOR}T} \\Phi(\\omega d_{+}) + \\frac{\\omega^2}{\\sigma S_0 \\sqrt{T}}\\left[S_0 e^{-r_{FOR}T} \\phi(\\omega d_{+}) - K e^{-r_{DOM}T}\\phi(\\omega d_{-})\\right]\\\\\n",
    "&= \\omega e^{-r_{FOR}T} \\Phi(\\omega d_{+}) + \\frac{\\omega^2}{\\sigma S_0 \\sqrt{T}}\\left[S_0 e^{-r_{FOR}T} e^{(r_{FOR} - r_{DOM})T}\\frac{K}{S_0}\\phi(\\omega d_{-}) - K e^{-r_{DOM}T}\\phi(\\omega d_{-})\\right]\\\\\n",
    "&= \\omega e^{-r_{FOR}T} \\Phi(\\omega d_{+}) + \\frac{\\omega^2}{\\sigma S_0 \\sqrt{T}}\\left[K e^{-r_{DOM}T}\\phi(\\omega d_{-}) - K e^{-r_{DOM}T}\\phi(\\omega d_{-})\\right]\\\\\n",
    "&= \\omega e^{-r_{FOR}T} \\Phi(\\omega d_{+})\n",
    "\\end{align*}\n",
    "$$"
   ]
  },
  {
   "cell_type": "markdown",
   "id": "e5cc559b",
   "metadata": {},
   "source": [
    "If we think of a delta hedge, it is just the number of units of foreign currency we need to hold in order to hedge an option with a notional of 1 unit of foreign currency and an equivalent notional of $K$ units of domestic currency. So, the spot delta is expressed as a percentage of the foreign currency."
   ]
  },
  {
   "cell_type": "markdown",
   "id": "d09ae98d",
   "metadata": {},
   "source": [
    "#### Implementing Analytic Delta."
   ]
  },
  {
   "cell_type": "code",
   "execution_count": 31,
   "id": "9f2bf02f",
   "metadata": {},
   "outputs": [],
   "source": [
    "def analyticDelta(S_t,K,t,T,r_DOM,r_FOR,sigma,CCY1Notional, callPut = CallPut.CALL_OPTION):\n",
    "    omega = callPut.value\n",
    "    d_plus = dPlus(S_t,K,t,T,r_DOM,r_FOR,sigma)\n",
    "    return omega * np.exp(-r_FOR * (T-t)) * norm.cdf(omega * d_plus) * CCY1Notional"
   ]
  },
  {
   "cell_type": "code",
   "execution_count": 32,
   "id": "c8eae5bb",
   "metadata": {},
   "outputs": [
    {
     "name": "stdout",
     "output_type": "stream",
     "text": [
      "Spot Delta = 50.48090225276146 EUR\n"
     ]
    }
   ],
   "source": [
    "S_t=1.0549 ; CCY1Notional=100.00\n",
    "\n",
    "pips_spot_delta = analyticDelta(S_t,K,t,T,r_DOM,r_FOR,sigma,CCY1Notional, callPut = CallPut.CALL_OPTION)\n",
    "print(f\"Spot Delta = {pips_spot_delta} EUR\")"
   ]
  },
  {
   "cell_type": "markdown",
   "id": "9e142e80",
   "metadata": {},
   "source": [
    "#### Plotting the Analytic Delta of call options"
   ]
  },
  {
   "cell_type": "code",
   "execution_count": 33,
   "id": "5638bd2e",
   "metadata": {},
   "outputs": [
    {
     "data": {
      "image/png": "[encoded data removed]",
      "text/plain": [
       "<Figure size 640x480 with 1 Axes>"
      ]
     },
     "metadata": {},
     "output_type": "display_data"
    }
   ],
   "source": [
    "plt.close()\n",
    "\n",
    "plt.grid(True)\n",
    "plt.title('Plot of Analytic delta of the European call')\n",
    "plt.xlabel('EURUSD spot price')\n",
    "plt.ylabel(r'$\\frac{\\partial V}{\\partial S}$')\n",
    "\n",
    "S_t = np.linspace(0.90,1.24,201)\n",
    "CCY1Notional = 1.00\n",
    "delta = analyticDelta(S_t,K,t,1.0,r_DOM,r_FOR,sigma,CCY1Notional, callPut = CallPut.CALL_OPTION)\n",
    "plt.plot(S_t,delta,label='T=1Y')\n",
    "plt.legend(loc=\"upper left\")\n",
    "plt.show()"
   ]
  },
  {
   "cell_type": "markdown",
   "id": "4c9bb205",
   "metadata": {},
   "source": [
    "### Forward Delta\n",
    "\n",
    "The interpretation of the foward delta is the number of units of FOR of forward contracts a trader needs to buy to delta hedge a short option position. According to Wystup, if we translate this hedge ratio in calculus, it means that we need to compute (for a call)\n",
    "\n",
    "$$\n",
    "\\frac{\\partial v_{\\text{option}}}{\\partial v_{\\text{forward}}}\n",
    "$$"
   ]
  },
  {
   "cell_type": "markdown",
   "id": "e1f32941",
   "metadata": {},
   "source": [
    "The value of a forward contract $v_{\\text{forward}}$ for an agreed forward exchange rate $K$ is:\n",
    "\n",
    "$$\n",
    "\\begin{align*}\n",
    "v_{\\text{forward}} &= e^{-r_{DOM}T}\\mathbb{E}^{\\mathbb{Q}^d}[R_T - K]\\\\\n",
    "&= e^{-r_{DOM}T}(R_0 \\mathbb{E}^{\\mathbb{Q}^d}[e^{(r_{DOM} - r_{FOR} - (\\sigma^2/2))T + \\sigma \\sqrt{T} Z}] - K)\\\\\n",
    "&= e^{-r_{DOM}T}(R_0 e^{(r_{DOM} - r_{FOR})T} - K)\\\\\n",
    "&= R_0 e^{- r_{FOR}T} - K e^{-r_{DOM}T}\n",
    "\\end{align*}\n",
    "$$"
   ]
  },
  {
   "cell_type": "markdown",
   "id": "3200fe10",
   "metadata": {},
   "source": [
    "So, the derivative of the value of the forward contract with respect to the spot is:\n",
    "\n",
    "$$\\frac{\\partial v_{\\text{forward}}}{\\partial R_0} = e^{-r_{FOR}T}$$"
   ]
  },
  {
   "cell_type": "markdown",
   "id": "e1896a7c",
   "metadata": {},
   "source": [
    "Using the chain rule and the derivative of the inverse function, we obtain the forward delta:\n",
    "\n",
    "$$\n",
    "\\begin{align*}\n",
    "\\frac{\\partial v_{\\text{option}}}{\\partial v_{\\text{forward}}} &= \\frac{\\partial v_{\\text{option}}}{\\partial v_{R_0}} \\times \\frac{\\partial v_{R_0}}{\\partial v_{\\text{forward}}}\\\\\n",
    "&=\\omega e^{-r_{FOR}T}\\Phi(\\omega d_{+}) \\times e^{r_{FOR}T}\\\\\n",
    "&= \\omega \\Phi(\\omega d_{+})\n",
    "\\end{align*}\n",
    "$$"
   ]
  },
  {
   "cell_type": "code",
   "execution_count": 34,
   "id": "769564e5",
   "metadata": {},
   "outputs": [],
   "source": [
    "def forwardDelta(S_t,K,t,T,r_DOM,r_FOR,sigma,CCY1Notional, callPut = CallPut.CALL_OPTION):\n",
    "    omega = callPut.value\n",
    "    d_plus = dPlus(S_t,K,t,T,r_DOM,r_FOR,sigma)\n",
    "    return omega  * norm.cdf(omega * d_plus) * CCY1Notional"
   ]
  },
  {
   "cell_type": "code",
   "execution_count": 35,
   "id": "c1589509",
   "metadata": {},
   "outputs": [
    {
     "name": "stdout",
     "output_type": "stream",
     "text": [
      "Forward Delta = 51.803382405811725 EUR of forward contracts\n"
     ]
    }
   ],
   "source": [
    "S_t=1.0549 ; CCY1Notional=100.00\n",
    "\n",
    "forward_delta = forwardDelta(S_t,K,t,T,r_DOM,r_FOR,sigma,CCY1Notional, callPut = CallPut.CALL_OPTION)\n",
    "print(f\"Forward Delta = {forward_delta} EUR of forward contracts\")"
   ]
  },
  {
   "cell_type": "markdown",
   "id": "caae3b41",
   "metadata": {},
   "source": [
    "## Gamma.\n",
    "\n",
    "$$\n",
    "\\begin{align*}\n",
    "\\frac{\\partial^2 V}{\\partial S_0^2} &= \\omega e^{-r_{FOR}T} \\frac{\\partial}{\\partial S_0}\\Phi(\\omega d_{+}) \\\\\n",
    "&= \\omega e^{-r_{FOR}T} \\phi(\\omega d_{+}) \\frac{\\omega}{\\sigma S_0 \\sqrt{T}}\\\\\n",
    "&= e^{-r_{FOR}T} \\frac{\\phi(\\omega d_{+})}{\\sigma S_0 \\sqrt{T}}\n",
    "\\end{align*}\n",
    "$$"
   ]
  },
  {
   "cell_type": "markdown",
   "id": "159c685b",
   "metadata": {},
   "source": [
    "The interpretation of the gamma is the change of the delta as the spot changes. A high gamma means that the delta hedge must be adapted very frequently and will cause transaction costs. Gamma is typically high when the spot is near a strike of a barrier, generally, whenever the payoff has a kink or dramatically a jump. Trading systems usually quote gamma as a *trader's gamma*, using a one percent relative change in the spot price. "
   ]
  },
  {
   "cell_type": "code",
   "execution_count": 199,
   "id": "da2abc8c",
   "metadata": {},
   "outputs": [],
   "source": [
    "def analyticGamma(S_t,K,t,T,r_DOM,r_FOR,sigma,CCY1Notional, callPut = CallPut.CALL_OPTION):\n",
    "    omega = callPut.value\n",
    "    d_plus = dPlus(S_t,K,t,T,r_DOM,r_FOR,sigma)\n",
    "    return np.exp(-r_FOR * (T-t)) * norm.cdf(omega * d_plus) / (sigma * S_t * np.sqrt(T-t)) * CCY1Notional"
   ]
  },
  {
   "cell_type": "code",
   "execution_count": 200,
   "id": "7df2b64b",
   "metadata": {},
   "outputs": [
    {
     "name": "stdout",
     "output_type": "stream",
     "text": [
      "Analytic Gamma = 533.4269573839681 EUR\n"
     ]
    }
   ],
   "source": [
    "gamma = analyticGamma(S_t,K,t,T,r_DOM,r_FOR,sigma,CCY1Notional, callPut = CallPut.CALL_OPTION)\n",
    "print(f\"Analytic Gamma = {gamma} EUR\")"
   ]
  },
  {
   "cell_type": "markdown",
   "id": "01dcbea9",
   "metadata": {},
   "source": [
    "### Theta.\n",
    "\n",
    "Let $\\tau = T- t$, $\\frac{\\partial \\tau}{\\partial t} = -1$. \n",
    "\n",
    "We first observe that:\n",
    "\n",
    "$$\n",
    "\\begin{align*}\n",
    "d_{-} &= d_{+} - \\sigma\\sqrt{\\tau}\\\\\n",
    "\\frac{\\partial d_{-}}{\\partial t} &= \\frac{\\partial d_{+}}{\\partial t} + \\frac{\\sigma}{2\\sqrt{\\tau}}\n",
    "\\end{align*}\n",
    "$$"
   ]
  },
  {
   "cell_type": "markdown",
   "id": "f77b7684",
   "metadata": {},
   "source": [
    "$$\n",
    "\\begin{align*}\n",
    "\\phi (d_{-}) &= \\exp\\left[-\\frac{1}{2}(d_{+} - \\sigma \\sqrt{\\tau})^2\\right]\\\\\n",
    "&= \\exp\\left[-\\frac{1}{2}(d_{+}^2 -2 d_{+}\\sigma\\sqrt{\\tau} + \\sigma^2 \\tau)\\right]\\\\\n",
    "&= \\exp\\left(-\\frac{1}{2}d_{+}^2\\right) \\exp(d_{+}\\sigma\\sqrt{\\tau}) \\exp(-\\frac{1}{2} \\sigma^2 \\tau)\\\\\n",
    "&= \\phi(d_{+}) \\exp\\left(\\log \\frac{S_0}{K} + (r_{DOM} - r_{FOR} + \\frac{\\sigma^2}{2})\\tau\\right) \\exp(-\\frac{1}{2} \\sigma^2 \\tau)\\\\\n",
    "&= \\phi(d_{+}) \\frac{S_0}{K} \\exp((r_{DOM} - r_{FOR})\\tau)\\exp(\\frac{\\sigma^2 \\tau}{2}) \\exp(-\\frac{1}{2} \\sigma^2 \\tau)\\\\\n",
    "&= \\frac{S_0}{K} \\cdot \\phi(d_{+}) e^{(r_{DOM} - r_{FOR})\\tau}\n",
    "\\end{align*}\n",
    "$$"
   ]
  },
  {
   "cell_type": "markdown",
   "id": "bbf5555b",
   "metadata": {},
   "source": [
    "And since $\\phi(\\omega d_{\\pm}) = \\phi(d_{\\pm})$, we can write:\n",
    "\n",
    "$$\\phi(\\omega d_{-})= \\frac{S_0}{K} \\phi(\\omega d_{+}) e^{(r_{DOM} - r_{FOR})\\tau}$$"
   ]
  },
  {
   "cell_type": "markdown",
   "id": "2e580d70",
   "metadata": {},
   "source": [
    "The value function of a vanilla European option is:\n",
    "\n",
    "$$v_{\\text{option}} = \\omega [S_0 e^{-r_{FOR}\\tau} \\Phi(\\omega d_{+}) - K e^{-r_{DOM}\\tau} \\Phi(\\omega d_{-})]$$\n"
   ]
  },
  {
   "cell_type": "markdown",
   "id": "09d308e5",
   "metadata": {},
   "source": [
    "Differentiating with respect to $t$, we get:\n",
    "\n",
    "$$\\frac{\\partial v_{\\text{option}}}{\\partial t} = \\omega[S_0 \\frac{\\partial }{\\partial t}e^{-r_{FOR}\\tau}\\Phi(\\omega d_{+}) - K \\frac{\\partial }{\\partial t} e^{-r_{DOM}\\tau}\\Phi(\\omega d_{-})]$$"
   ]
  },
  {
   "cell_type": "markdown",
   "id": "70f295c2",
   "metadata": {},
   "source": [
    "The first term can be expressed as:\n",
    "\n",
    "$$\n",
    "\\begin{align*}\n",
    "\\frac{\\partial }{\\partial t} e^{-r_{FOR}\\tau} \\Phi(\\omega d_{+}) &= r_{FOR}e^{-r_{FOR}\\tau}\\Phi(\\omega d_{+}) + \\omega e^{-r_{FOR}\\tau} \\phi(\\omega d_{+}) \\frac{\\partial d_{+}}{\\partial t}\n",
    "\\end{align*}\n",
    "$$"
   ]
  },
  {
   "cell_type": "markdown",
   "id": "76ea1d35",
   "metadata": {},
   "source": [
    "The second term can be expressed as:\n",
    "\n",
    "$$\n",
    "\\begin{align*}\n",
    "\\frac{\\partial }{\\partial t} e^{-r_{DOM}\\tau}\\Phi(\\omega d_{-}) &= r_{DOM}e^{-r_{DOM}\\tau}\\Phi(\\omega d_{-}) + \\omega  e^{-r_{DOM}\\tau}\\phi(\\omega d_{-}) \\frac{\\partial d_{-}}{\\partial t}\\\\\n",
    "&=r_{DOM}e^{-r_{DOM}\\tau}\\Phi(\\omega d_{-}) + \\omega \\cdot \\frac{S_0}{K}  e^{-r_{DOM}\\tau}\\phi(\\omega d_{+}) e^{(r_{DOM} - r_{FOR})\\tau}\\left(\\frac{\\partial d_{+}}{\\partial t} + \\frac{\\sigma}{2\\sqrt{\\tau}}\\right)\\\\\n",
    "&=r_{DOM}e^{-r_{DOM}\\tau}\\Phi(\\omega d_{-}) + \\omega \\cdot \\frac{S_0}{K}  e^{-r_{FOR}\\tau}\\phi(\\omega d_{+}) \\left(\\frac{\\partial d_{+}}{\\partial t} + \\frac{\\sigma}{2\\sqrt{\\tau}}\\right)\\\\\n",
    "\\end{align*}\n",
    "$$"
   ]
  },
  {
   "cell_type": "markdown",
   "id": "f0defe1f",
   "metadata": {},
   "source": [
    "Collecting the two terms we have:\n",
    "\n",
    "$$\n",
    "\\begin{align*}\n",
    "&S_0 \\frac{\\partial }{\\partial t} e^{-r_{FOR}\\tau} \\Phi(\\omega d_{+}) - K \\frac{\\partial }{\\partial t} e^{-r_{DOM}\\tau}\\Phi(\\omega d_{-}) \\\\\n",
    "=& S_0 r_{FOR}e^{-r_{FOR}\\tau}\\Phi(\\omega d_{+}) + \\omega S_0 e^{-r_{FOR}\\tau} \\phi(\\omega d_{+}) \\frac{\\partial d_{+}}{\\partial t}\\\\\n",
    "-& K r_{DOM}e^{-r_{DOM}\\tau}\\Phi(\\omega d_{-}) - \\omega S_0  e^{-r_{FOR}\\tau}\\phi(\\omega d_{+}) \\left(\\frac{\\partial d_{+}}{\\partial t} + \\frac{\\sigma}{2\\sqrt{\\tau}}\\right)\\\\\n",
    "=& S_0 r_{FOR}e^{-r_{FOR}\\tau}\\Phi(\\omega d_{+}) - K r_{DOM}e^{-r_{DOM}\\tau}\\Phi(\\omega d_{-}) - \\omega S_0  e^{-r_{FOR}\\tau}\\phi(\\omega d_{+}) \\frac{\\sigma}{2\\sqrt{\\tau}}\n",
    "\\end{align*}\n",
    "$$"
   ]
  },
  {
   "cell_type": "markdown",
   "id": "189623cd",
   "metadata": {},
   "source": [
    "Therefore,\n",
    "\n",
    "$$\n",
    "\\begin{align*}\n",
    "\\frac{\\partial v_{\\text{option}}}{\\partial t} &= \\omega [S_0 r_{FOR}e^{-r_{FOR}\\tau}\\Phi(\\omega d_{+}) - K r_{DOM}e^{-r_{DOM}\\tau}\\Phi(\\omega d_{-})] \\\\\n",
    "&- S_0  e^{-r_{FOR}\\tau}\\phi(\\omega d_{+}) \\frac{\\sigma}{2\\sqrt{\\tau}}\n",
    "\\end{align*}\n",
    "$$"
   ]
  },
  {
   "cell_type": "code",
   "execution_count": 38,
   "id": "3d014d15",
   "metadata": {},
   "outputs": [],
   "source": [
    "def analyticTheta(S_t,K,t,T,r_DOM,r_FOR,sigma,CCY1Notional, callPut = CallPut.CALL_OPTION):    \n",
    "    \n",
    "    omega = callPut.value\n",
    "    FOR_df = np.exp(-r_FOR*(T-t)); DOM_df =np.exp(-r_DOM*(T-t));\n",
    "    dplus = dPlus(S_t,K,t,T,r_DOM,r_FOR,sigma); dminus = dMinus(S_t,K,t,T,r_DOM,r_FOR,sigma);\n",
    "    Nd1 = norm.cdf(omega * dplus); Nd2 = norm.cdf(omega * dminus)\n",
    "    \n",
    "    theta = (omega * (S_t * r_FOR * FOR_df * Nd1 - K * r_DOM * DOM_df * Nd2) \n",
    "            - S_t * FOR_df * Nd1 * (sigma / (2 * np.sqrt(T-t)))) * CCY1Notional\n",
    "    \n",
    "    return theta"
   ]
  },
  {
   "cell_type": "code",
   "execution_count": 42,
   "id": "6f35dea4",
   "metadata": {},
   "outputs": [
    {
     "name": "stdout",
     "output_type": "stream",
     "text": [
      "Analytic Theta = -3.04597416111385 USD\n"
     ]
    }
   ],
   "source": [
    "S_t=1.0549 ; CCY1Notional=100.00\n",
    "\n",
    "theta = analyticTheta(S_t,K,t,T,r_DOM,r_FOR,sigma,CCY1Notional, callPut = CallPut.CALL_OPTION)\n",
    "print(f\"Analytic Theta = {theta} USD\")"
   ]
  },
  {
   "cell_type": "markdown",
   "id": "32eded9a",
   "metadata": {},
   "source": [
    "Theta reflects the change of the option value as the clock ticks. The *trader's theta* in a risk-management system refers to the change in the option value in one day, i.e. it can be approximated by $365 \\frac{\\partial v}{\\partial t}$."
   ]
  },
  {
   "cell_type": "markdown",
   "id": "01ba59ee",
   "metadata": {},
   "source": [
    "### Vega.\n",
    "\n",
    "$$\n",
    "\\begin{align*}\n",
    "\\frac{\\partial v}{\\partial \\sigma} &= \\omega[S_0 e^{-r_{FOR}\\tau} \\frac{\\partial}{\\partial \\sigma}\\Phi(\\omega d_{+}) - K e^{-r_{DOM}\\tau} \\frac{\\partial}{\\partial \\sigma}\\Phi(\\omega d_{-})]\\\\\n",
    " &= \\omega[S_0 e^{-r_{FOR}\\tau} \\phi(\\omega d_{+})\\frac{\\partial d_{+}}{\\partial \\sigma} - K e^{-r_{DOM}\\tau} \\phi(\\omega d_{-}) \\frac{\\partial d_{-}}{\\partial \\sigma}]\n",
    "\\end{align*}\n",
    "$$"
   ]
  },
  {
   "cell_type": "markdown",
   "id": "5bd5d03c",
   "metadata": {},
   "source": [
    "Note that, $d_{-} = d_{+} - \\sigma\\sqrt{\\tau}$, so $\\frac{\\partial d_{-}}{\\partial \\sigma} = \\frac{\\partial d_{+}}{\\partial \\sigma} - \\sqrt{\\tau}$. "
   ]
  },
  {
   "cell_type": "markdown",
   "id": "527426e7",
   "metadata": {},
   "source": [
    "Also, $\\phi(\\omega d_{-})=\\frac{K}{S_0}e^{(r_{DOM} - r_{FOR})\\tau}\\phi(\\omega d_{+})$."
   ]
  },
  {
   "cell_type": "markdown",
   "id": "d14e521a",
   "metadata": {},
   "source": [
    "Plugging these two facts in the expression for option vega, we get:\n",
    "\n",
    "$$\n",
    "\\begin{align*}\n",
    "\\frac{\\partial v}{\\partial \\sigma}  &= \\omega[S_0 e^{-r_{FOR}\\tau} \\phi(\\omega d_{+})\\frac{\\partial d_{+}}{\\partial \\sigma} \\\\\n",
    "&- K e^{-r_{DOM}\\tau} \\frac{K}{S_0}e^{(r_{DOM} - r_{FOR})\\tau}\\phi(\\omega d_{+}) \\left(\\frac{\\partial d_{+}}{\\partial \\sigma} - \\sqrt{\\tau}\\right)]\\\\\n",
    "&= S_0 e^{-r_{FOR}\\tau} \\phi(\\omega d_{+}) \\sqrt{\\tau}\n",
    "\\end{align*}\n",
    "$$"
   ]
  },
  {
   "cell_type": "markdown",
   "id": "7519f47d",
   "metadata": {},
   "source": [
    "### Vanna."
   ]
  },
  {
   "cell_type": "markdown",
   "id": "fc463f9d",
   "metadata": {},
   "source": [
    "The vanna is *dvega/dspot*. It reflects the change in the vega as the spot moves.\n",
    "\n",
    "$$\n",
    "\\begin{align*}\n",
    "\\frac{\\partial^2 v}{\\partial \\sigma \\partial S_0} &= \\frac{\\partial}{\\partial S_0} \\left(\\frac{\\partial v}{\\partial \\sigma}\\right)\\\\\n",
    "&= e^{-r_{FOR}\\tau} \\sqrt{\\tau}\\cdot \\frac{\\partial}{\\partial S_0}(S_0\\phi(\\omega d_{+}))\\\\\n",
    "&= e^{-r_{FOR}\\tau} \\sqrt{\\tau}(\\phi(\\omega d_{+}) + S_0 \\frac{\\partial}{\\partial S_0}\\phi(\\omega d_{+}))\\\\\n",
    "&= e^{-r_{FOR}\\tau} \\sqrt{\\tau}(\\phi(\\omega d_{+}) + \\omega S_0 \\frac{\\partial}{\\partial d_{+}}\\phi(\\omega d_{+})\\cdot \\frac{\\partial d_{+}}{\\partial S_0})\\\\\n",
    "&= e^{-r_{FOR}\\tau} \\sqrt{\\tau}(\\phi(\\omega d_{+}) + \\omega S_0\\frac{1}{\\sqrt{2\\pi}} \\cdot\\frac{\\partial}{\\partial d_{+}}\\exp(-d_{+}^2/2)\\cdot \\frac{1}{\\sigma S_0 \\sqrt{\\tau}})\\\\\n",
    "&= e^{-r_{FOR}\\tau} \\sqrt{\\tau}(\\phi(\\omega d_{+}) + \\omega \\frac{1}{\\sqrt{2\\pi}}e^{-d_{+}^2/2} (-d_{+})\\cdot \\frac{1}{\\sigma \\sqrt{\\tau}})\\\\\n",
    "&= e^{-r_{FOR}\\tau} \\sqrt{\\tau}\\phi(\\omega d_{+})(1 -  \\frac{d_{+}}{\\sigma \\sqrt{\\tau}})\\\\\n",
    "&= -e^{-r_{FOR}\\tau} \\phi(\\omega d_{+})\\frac{d_{-}}{\\sigma}\n",
    "\\end{align*}\n",
    "$$"
   ]
  },
  {
   "cell_type": "markdown",
   "id": "4b1526c8",
   "metadata": {},
   "source": [
    "### Volga.\n",
    "\n",
    "The volga is *dvega/dvol*. It reflects the change in the vega as the vol moves.\n",
    "\n"
   ]
  }
 ],
 "metadata": {
  "kernelspec": {
   "display_name": "Python 3 (ipykernel)",
   "language": "python",
   "name": "python3"
  },
  "language_info": {
   "codemirror_mode": {
    "name": "ipython",
    "version": 3
   },
   "file_extension": ".py",
   "mimetype": "text/x-python",
   "name": "python",
   "nbconvert_exporter": "python",
   "pygments_lexer": "ipython3",
   "version": "3.11.4"
  }
 },
 "nbformat": 4,
 "nbformat_minor": 5
}
