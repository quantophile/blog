{
 "cells": [
  {
   "cell_type": "markdown",
   "id": "7eb55253",
   "metadata": {},
   "source": [
    "## Introduction.\n",
    "\n",
    "I derived the Black-Scholes formula for European style vanilla FX options in a previous post [here](https://quantophile.github.io/mathsummaries/post/2023/11/19/garman-kohlhagen-for-european-vanilla-fx-options/). The Black-Scholes model $Bl(S_0,K,T,r_{DOM},r_{FOR},\\sigma)$ equipped with a single flat volatility parameter $\\sigma$ produces option prices which are **NOT consistent** with the observed market prices of FX options across different strikes and maturities. "
   ]
  },
  {
   "cell_type": "markdown",
   "id": "a0c87de5",
   "metadata": {},
   "source": [
    "Although, the BS model suffers many flaws, it is still often used, at least for quoting purposes. Since all of the other inputs into the model - market data variables such as the stock price $S_0$, the domestic depo rate $r_{DOM}$, the foreign depo rate $r_{FOR}$, and the parameters such as option strike $K$, the time-to-maturity $T$, can be either seen in the market or are known constants, we can easily solve for the value $\\sigma_{\\text{imp}}$ of the parameter $\\sigma$ such that:\n",
    "\n",
    "$$Bl(S_0,K,T,r_{DOM},r_{FOR},\\sigma_{\\text{imp}}) = V_{\\text{market}}$$"
   ]
  },
  {
   "cell_type": "markdown",
   "id": "17c0e68b",
   "metadata": {},
   "source": [
    "This value $\\sigma_{\\text{imp}}$ implied from the market price of the option is called the **implied volatility**. \n",
    "\n",
    "Thus, although the BS model suffers from flaws, it is mainly used as a quote converter. In the FX options market, option prices are quoted in terms of implied volatilities. The BS formula is used to convert implied vols $\\sigma_{\\text{imp}}$ to prices and vice versa. The delta hedge to be exchanged between counterparties is calculated according to the BS formula, and this is also true for the Vega hedge of various exotic options. In many cases, the model is also used to run trading books. \n",
    "\n",
    "\n",
    "In this note, I explore various delta conventions and derive the greeks. Check out [FX Vol smile](https://mathfinance.com/wp-content/uploads/2017/06/CPQF_Arbeits20_neu2.pdf) by Wyestup! The entire concept of the FX volatility smile is based on the parametrization with respect to delta."
   ]
  },
  {
   "cell_type": "markdown",
   "id": "c77686a8",
   "metadata": {},
   "source": [
    "## Quote style conversions.\n",
    "\n",
    "In FX markets, options are quoted in one of 4 quote styles - domestic per foreign (d/f), percentage foreign (%f), percentage domestic (%d) and foreign per domestic (f/d). \n",
    "\n",
    "The standard Black-Scholes formula is:\n",
    "\n",
    "$$\n",
    "\\begin{align}\n",
    "V_{d/f} &= \\omega [S_0 e^{-r_{FOR} T} \\Phi(d_{+}) - K e^{-r_{DOM}T} \\Phi(d_{-})\\\\\n",
    "&= \\omega e^{-r_{DOM}T}[F \\Phi(d_{+}) - K  \\Phi(d_{-})]\n",
    "\\end{align}\n",
    "$$"
   ]
  },
  {
   "cell_type": "markdown",
   "id": "1d22a78f",
   "metadata": {},
   "source": [
    "Whether a call or a put, it is an option to exchange $K$ units of the domestic currency for $1$ unit of the foreign currency, valued in domestic currency - so it is the domestic/foreign price. \n",
    "\n",
    "If we want to express the above as a CCY1/CCY1 price, the conversion is easy : we just take the CCY2/CCY1 price above and convert the CCY2 value into CCY1 terms using today's spot rate $S_0$:\n",
    "\n",
    "$$\n",
    "V_{\\text{% f}} = \\frac{\\omega}{S_0}e^{-r_{DOM}T}[F\\Phi(\\omega d_{+}) - K\\Phi(\\omega d_{-})] = \\frac{V_{d/f}}{S_0}\n",
    "$$"
   ]
  },
  {
   "cell_type": "markdown",
   "id": "12af2742",
   "metadata": {},
   "source": [
    "For the %CCY2 price, we start with the CCY2/CCY1 price, this being the price in CCY2 of an option with a unit notional in the foreign currency. Since the strike is predetermined, it is also the price in CCY2 of an option with a notional of $K$ in CCY2. So, the CCY1/CCY2 price divided by $K$, is the $%ccy2$ price i.e. the percentage domestic price:\n",
    "\n",
    "$$V_{\\%d} = \\frac{\\omega}{K} e^{-r_{DOM}T}[F \\Phi(d_{+}) - K e^{-r_{DOM}T} \\Phi(d_{-})] = \\frac{V_{d/f}}{K}$$"
   ]
  },
  {
   "cell_type": "markdown",
   "id": "e7f9af67",
   "metadata": {},
   "source": [
    "The ccy1/ccy2 price is the price you need to pay in foreign currency for an option on $1$ unit notional of the domestic currency.\n",
    "\n",
    "$$V_{f/d} = \\frac{V_{\\% d}}{S_0} = \\frac{V_{d/f}}{S_0 K}$$"
   ]
  },
  {
   "cell_type": "markdown",
   "id": "4125bd84",
   "metadata": {},
   "source": [
    "The four prices above are relative to the notionals of $K$ in the domestic currency and $1$ in the foreign currency. If the actual notionals are $N_d$ and $N_f$ in domestic and foreign currencies where $N_d = K \\cdot N_f$, then we scale accordingly."
   ]
  },
  {
   "cell_type": "markdown",
   "id": "c0b623b6",
   "metadata": {},
   "source": [
    "### Implementing the Bl Calculator and Option Greeks."
   ]
  },
  {
   "cell_type": "code",
   "execution_count": 3,
   "id": "3d019947",
   "metadata": {},
   "outputs": [],
   "source": [
    "# Author. Quasar C.\n",
    "# Date. 19-11-2023\n",
    "\n",
    "import numpy as np\n",
    "from scipy.stats import norm\n",
    "from enum import Enum\n",
    "\n",
    "# An FX option is the right to exchange 1 unit notional of the foreign currency for K units of the domestic currency at time T. \n",
    "\n",
    "class CallPut(Enum):\n",
    "    CALL_OPTION = 1\n",
    "    PUT_OPTION = -1\n",
    "        \n",
    "def atTheMoneyForward(S_t,K,t,T,r_DOM,r_FOR,sigma):\n",
    "    foreignDF = np.exp(-r_FOR*(T-t))\n",
    "    domesticDF = np.exp(-r_DOM*(T-t))\n",
    "    fwdPoints = foreignDF / domesticDF\n",
    "    F = fwdPoints * S_t\n",
    "    return F\n",
    "        \n",
    "def dPlus(S_t,K,t,T,r_DOM,r_FOR,sigma):\n",
    "    F = atTheMoneyForward(S_t,K,t,T,r_DOM,r_FOR,sigma)\n",
    "    return (np.log(F/K) + (T-t)*(sigma**2)/2)/(sigma * np.sqrt(T - t))\n",
    "\n",
    "def dMinus(S_t,K,t,T,r_DOM,r_FOR,sigma):\n",
    "    F = atTheMoneyForward(S_t,K,t,T,r_DOM,r_FOR,sigma)\n",
    "    return (np.log(F/K) - (T-t)*(sigma**2)/2)/(sigma * np.sqrt(T - t))\n",
    "\n",
    "def PV(S_t,K,t,T,r_DOM,r_FOR,sigma, CCY1Notional,callPut):\n",
    "    F = atTheMoneyForward(S_t,K,t,T,r_DOM,r_FOR,sigma)\n",
    "    omega = callPut.value\n",
    "    d_plus = dPlus(S_t,K,t,T,r_DOM,r_FOR,sigma)\n",
    "    d_minus = dMinus(S_t,K,t,T,r_DOM,r_FOR,sigma)\n",
    "    domesticDF = np.exp(-r_DOM*(T-t))\n",
    "    \n",
    "    undiscountedPrice = omega* (F * norm.cdf(omega * d_plus) - K * norm.cdf(omega * d_minus))\n",
    "    pv = domesticDF * undiscountedPrice * CCY1Notional\n",
    "    return pv"
   ]
  },
  {
   "cell_type": "markdown",
   "id": "f75ef5dd",
   "metadata": {},
   "source": [
    "#### Computing the ATM-Forward and the option price"
   ]
  },
  {
   "cell_type": "code",
   "execution_count": 4,
   "id": "401a5559",
   "metadata": {},
   "outputs": [],
   "source": [
    "S_t=1.0549 ; K=1.0710350214586397 ; t=0.0 ;T=1.0 ; r_DOM=0.041039868 ; r_FOR= 0.025860353; sigma=0.08971 ; CCY1Notional=100.00\n",
    "\n",
    "forward = atTheMoneyForward(S_t,K,t,T,r_DOM,r_FOR,sigma)\n",
    "\n",
    "call_price = PV(S_t,K,t,T,r_DOM,r_FOR,sigma, CCY1Notional,callPut = CallPut.CALL_OPTION)\n",
    "put_price = PV(S_t,K,t,T,r_DOM,r_FOR,sigma, CCY1Notional,callPut = CallPut.PUT_OPTION)"
   ]
  },
  {
   "cell_type": "code",
   "execution_count": 5,
   "id": "d8ee2bd6",
   "metadata": {},
   "outputs": [
    {
     "name": "stdout",
     "output_type": "stream",
     "text": [
      "Notional = 100.0 EUR\n",
      "\n",
      "At the money forward = 1.0710350214586397 USD\n",
      "\n",
      "Call Price = 3.6777787101031754 USD pips\n",
      "Put Price = 3.6777787101031754 USD pips\n",
      "\n",
      "Call price = 3.4863766329540007 % EUR\n",
      "Put price = 3.4863766329540007 % EUR\n",
      "\n",
      "Call price = 3.4338547633058893 % USD\n",
      "Put price = 3.4338547633058893 % USD\n",
      "\n",
      "Call price = 3.2551471829613132 EUR pips\n",
      "Put price = 3.2551471829613132 EUR pips\n"
     ]
    }
   ],
   "source": [
    "print(f\"Notional = {CCY1Notional} EUR\")\n",
    "\n",
    "print(f\"\\nAt the money forward = {forward} USD\")\n",
    "print(f\"\\nCall Price = {call_price} USD pips\")\n",
    "print(f\"Put Price = {put_price} USD pips\")\n",
    "\n",
    "print(f\"\\nCall price = {call_price/S_t} % EUR\")\n",
    "print(f\"Put price = {put_price/S_t} % EUR\")\n",
    "\n",
    "print(f\"\\nCall price = {call_price/K} % USD\")\n",
    "print(f\"Put price = {put_price/K} % USD\")\n",
    "\n",
    "print(f\"\\nCall price = {call_price/(S_t * K)} EUR pips\")\n",
    "print(f\"Put price = {put_price/(S_t * K)} EUR pips\")"
   ]
  },
  {
   "cell_type": "markdown",
   "id": "34759374",
   "metadata": {},
   "source": [
    "#### Plotting the option price against the CCY1CCY2 spot"
   ]
  },
  {
   "cell_type": "code",
   "execution_count": 45,
   "id": "ce2ed657",
   "metadata": {},
   "outputs": [
    {
     "data": {
      "image/png": "[encoded data removed]",
      "text/plain": [
       "<Figure size 640x480 with 1 Axes>"
      ]
     },
     "metadata": {},
     "output_type": "display_data"
    }
   ],
   "source": [
    "import matplotlib.pyplot as plt\n",
    "\n",
    "plt.grid(True)\n",
    "plt.title('Plot of EUR Call/USD Put Option price')\n",
    "S_t = np.linspace(0.90,1.24,201)\n",
    "CCY1Notional = 100.00\n",
    "\n",
    "call_price_1y = PV(S_t,K,t,1.0,r_DOM,r_FOR,sigma, CCY1Notional,callPut = CallPut.CALL_OPTION)\n",
    "\n",
    "plt.xlabel(r'EURUSD FX spot')\n",
    "plt.ylabel(r'Call option price (USD pips)')\n",
    "plt.plot(S_t,call_price_1y)\n",
    "\n",
    "plt.show()\n"
   ]
  },
  {
   "cell_type": "code",
   "execution_count": 7,
   "id": "0c43197e",
   "metadata": {
    "scrolled": true
   },
   "outputs": [
    {
     "data": {
      "image/png": "[encoded data removed]",
      "text/plain": [
       "<Figure size 640x480 with 1 Axes>"
      ]
     },
     "metadata": {},
     "output_type": "display_data"
    }
   ],
   "source": [
    "plt.close()\n",
    "\n",
    "plt.grid(True)\n",
    "plt.title('Plot of EUR Put/USD Call Option price')\n",
    "\n",
    "put_price_1y = PV(S_t,K,t,1.0,r_DOM,r_FOR,sigma, CCY1Notional,callPut = CallPut.PUT_OPTION)\n",
    "\n",
    "\n",
    "plt.xlabel(r'EURUSD FX spot')\n",
    "plt.ylabel(r'Put option price (USD pips)')\n",
    "\n",
    "plt.plot(S_t,put_price_1y)\n",
    "\n",
    "plt.show()"
   ]
  },
  {
   "cell_type": "markdown",
   "id": "f4517ace",
   "metadata": {},
   "source": [
    "## Outright forward rate.\n",
    "\n",
    "Consider a contract with payoff at time $T$, $V_T = R_T - K$. The value of this claim at time zero is:\n",
    "\n",
    "$$\n",
    "\\begin{align*}\n",
    "v_0 &= e^{-r_{DOM}T}\\mathbb{E}^{\\mathbb{Q}^d}[R_T - K]\\\\\n",
    "&= e^{-r_{DOM}T}(R_0 \\mathbb{E}^{\\mathbb{Q}^d}[e^{(r_{DOM} - r_{FOR} - (\\sigma^2/2))T + \\sigma \\sqrt{T} Z}] - K)\\\\\n",
    "&= e^{-r_{DOM}T}(R_0 e^{(r_{DOM} - r_{FOR})T} - K)\\\\\n",
    "&= R_0 e^{- r_{FOR}T} - K e^{-r_{DOM}T}\n",
    "\\end{align*}\n",
    "$$\n",
    "\n",
    "The forward price(strike) $K=F_{0,T}$ is set such that, the value of the contract at time zero is $0$. So,\n",
    "\n",
    "$$\n",
    "F_{0,T} = K =R_0 e^{(r_{DOM}-r_{FOR})T}\n",
    "$$"
   ]
  },
  {
   "cell_type": "markdown",
   "id": "e95ad03e",
   "metadata": {},
   "source": [
    "## Put call parity.\n",
    "\n",
    "We know that, \n",
    "\n",
    "$$(S_T - K)^{+} - (K - S_T)^{+} = (S_T - K)$$\n",
    "\n",
    "By the risk-neutral-pricing formula:\n",
    "\n",
    "$$\\mathbb{E}^{\\mathbb{Q}^d}[e^{-r_{DOM}T}(S_T - K)^{+}|\\mathcal{F_t}] - \\mathbb{E}^{\\mathbb{Q}^d}[e^{-r_{DOM}T}(K - S_T)^{+}|\\mathcal{F_t}] = \\mathbb{E}^{\\mathbb{Q}^d}[e^{-r_{DOM}T}(S_T - K)|\\mathcal{F_t}]$$\n",
    "\n",
    "Thus,\n",
    "\n",
    "$$V_{\\text{call}}(t,T) - V_{\\text{put}}(t,T) = e^{-r_{FOR}T}S_t - e^{-r_{DOM}T} K = F(t,T)$$"
   ]
  },
  {
   "cell_type": "markdown",
   "id": "7c69dd05",
   "metadata": {},
   "source": [
    "To derive the deltas, we use the following propositions, which are really easy to prove.\n",
    "\n",
    "***Proposition.*** \n",
    "\n",
    "$$\\frac{\\partial d_{+}}{\\partial S_0} = \\frac{\\partial d_{-}}{\\partial S_0} = \\frac{1}{\\sigma S_0 \\sqrt{T}}$$\n"
   ]
  },
  {
   "cell_type": "markdown",
   "id": "3010c41f",
   "metadata": {},
   "source": [
    "***Proof***.\n",
    "\n",
    "We have:\n",
    "\n",
    "$$\n",
    "\\begin{align*}\n",
    "d_{\\pm} &= \\frac{\\log {S_0}}{\\sigma \\sqrt{T}} - \\frac{\\log {K} + (r \\pm \\sigma^2/2)T}{\\sigma \\sqrt{T}}\\\\\n",
    "\\frac{\\partial d_{\\pm}}{\\partial S_0}&= \\frac{1}{\\sigma\\sqrt{T}}\\frac{1}{S_0}\n",
    "\\end{align*}\n",
    "$$"
   ]
  },
  {
   "cell_type": "markdown",
   "id": "39dca852",
   "metadata": {},
   "source": [
    "***Proposition.***\n",
    "\n",
    "$$\\frac{\\partial \\Phi(\\omega d_{\\pm})}{\\partial S_0} = \\frac{\\omega}{\\sigma S_0 \\sqrt{T}}\\phi(\\omega d_{\\pm})$$"
   ]
  },
  {
   "cell_type": "markdown",
   "id": "856aca6d",
   "metadata": {},
   "source": [
    "***Proof.***\n",
    "\n",
    "By chain rule, we have:\n",
    "\n",
    "$$\n",
    "\\begin{align*}\n",
    "\\frac{\\partial\\Phi(\\omega d_{\\pm})}{\\partial S_0} &= \\phi(\\omega d_{\\pm}) \\frac{\\partial (\\omega d_{\\pm})}{dS_0} \\\\\n",
    "&= \\phi(\\omega d_{\\pm}) \\frac{\\omega}{\\sigma S_0 \\sqrt{T}}\n",
    "\\end{align*}\n",
    "$$"
   ]
  },
  {
   "cell_type": "markdown",
   "id": "e19089b6",
   "metadata": {},
   "source": [
    "***Proposition***. The following general result holds:\n",
    "\n",
    "$$\\phi(\\omega d_{+}) = \\phi(\\omega d_{-})\\exp(\\omega^2 [r_{FOR} - r_{DOM}]T)(K/S_0)^{\\omega^2}$$"
   ]
  },
  {
   "cell_type": "markdown",
   "id": "a1d94981",
   "metadata": {},
   "source": [
    "***Proof.***\n",
    "\n",
    "We have:\n",
    "\n",
    "$$\n",
    "d_{+} + d_{-} = 2 \\frac{\\log (S_0/K) + (r_{FOR} - r_{DOM})T}{\\sigma \\sqrt{T}}\n",
    "$$\n",
    "\n",
    "$$\n",
    "d_{+} - d_{-} = \\sigma\\sqrt{T}\n",
    "$$\n",
    "\n",
    "$$\n",
    "\\begin{align*}\n",
    "\\frac{\\phi(\\omega d_{+})}{\\phi(\\omega d_{-})} &= \\exp\\left[-\\omega^2\\left(\\frac{d_{+}^2-d_{-}^2}{2}\\right)\\right]\\\\\n",
    "&= \\exp\\left[-\\omega^2(\\log (S_0/K) + (r_{DOM} - r_{FOR})T)\\right]\\\\\n",
    "&= \\exp\\left[\\omega^2((r_{FOR} - r_{DOM})T)\\right](K/S_0)^{\\omega^2}\n",
    "\\end{align*}\n",
    "$$\n",
    "\n",
    "Also,\n",
    "\n",
    "$$S_0 e^{-r_{FOR}\\tau} \\phi(d_{+}) = K e^{-r_{DOM}\\tau} \\phi(d_{-})$$"
   ]
  },
  {
   "cell_type": "markdown",
   "id": "0029335c",
   "metadata": {},
   "source": [
    "***Proposition.*** The following recurring identities hold:\n",
    "\n",
    "(a) $\\frac{\\partial d_{+}}{\\partial \\sigma} = -\\frac{d_{\\mp}}{\\sigma}$\n",
    "\n",
    "***Proof.***\n",
    "\n",
    "We have:\n",
    "\n",
    "$$\n",
    "\\begin{align*}\n",
    "\\frac{\\partial d_{\\pm}}{\\partial \\sigma} &= \\frac{\\partial}{\\partial \\sigma}\\left(\\frac{\\log (F/K)}{\\sigma \\sqrt{\\tau}} + \\frac{1}{2}\\sigma{\\sqrt{\\tau}}\\right)\\\\\n",
    "&= \\left(\\frac{-\\log (F/K)}{\\sigma^2 \\sqrt{\\tau}} \\pm \\frac{1}{2}{\\sqrt{\\tau}}\\right)\\\\\n",
    "&= -\\left(\\frac{\\log (F/K)}{\\sigma^2 \\sqrt{\\tau}} \\mp \\frac{\\frac{\\sigma^2}{2}\\tau}{\\sigma^2 \\sqrt{\\tau}}\\right)\\\\\n",
    "&= -\\frac{1}{\\sigma}\\left(\\frac{\\log (F/K) \\mp \\frac{\\sigma^2}{2}\\tau}{\\sigma \\sqrt{\\tau}}\\right)\\\\\n",
    "&= -\\frac{d_{\\mp}}{\\sigma}\n",
    "\\end{align*}\n",
    "$$"
   ]
  },
  {
   "cell_type": "markdown",
   "id": "c531a08d",
   "metadata": {},
   "source": [
    "(b) $\\frac{\\partial d_{\\pm}}{\\partial r_{DOM}} = \\frac{\\sqrt{\\tau}}{\\sigma}$\n",
    "\n",
    "***Proof.***\n",
    "\n",
    "We have:\n",
    "\n",
    "$$\n",
    "\\begin{align*}\n",
    "\\frac{\\partial d_{\\pm}}{\\partial r_{DOM}} &= \\frac{\\partial }{\\partial r_{DOM}}\\frac{\\log (S_0/K) + (r_{DOM} - r_{FOR})\\tau \\pm (\\sigma^2/2)\\tau}{\\sigma \\sqrt{\\tau}}\\\\\n",
    "&= \\frac{\\tau}{\\sigma \\sqrt{\\tau}}\\frac{\\partial}{\\partial {r_{DOM}}}(r_{DOM} - r_{FOR})\\\\\n",
    "&= \\frac{\\sqrt{\\tau}}{\\sigma}\n",
    "\\end{align*}\n",
    "$$"
   ]
  },
  {
   "cell_type": "markdown",
   "id": "950bb859",
   "metadata": {},
   "source": [
    "(c) $\\frac{\\partial d_{\\pm}}{\\partial r_{FOR}}= - \\frac{\\sqrt{\\tau}}{\\sigma}$\n",
    "\n",
    "***Proof.***\n",
    "\n",
    "We have:\n",
    "\n",
    "$$\n",
    "\\begin{align*}\n",
    "\\frac{\\partial d_{\\pm}}{\\partial r_{FOR}} &= \\frac{\\sqrt{\\tau}}{\\sigma}\\frac{\\partial}{\\partial {r_{FOR}}} (r_{DOM} - r_{FOR})\\\\\n",
    "&= -\\frac{\\sqrt{\\tau}}{\\sigma}\n",
    "\\end{align*}\n",
    "$$"
   ]
  },
  {
   "cell_type": "markdown",
   "id": "5ab048e1",
   "metadata": {},
   "source": [
    "## Delta\n",
    "\n",
    "The delta of an option is the percentage of the foreign notional one must buy when you have a short position in an FX option. For instance, a delta of 0.35 indicates buying $35\\%$ of the foreign notional to delta hedge the short position. In FX markets, we distinguish between spot delta for a hedge in the spot market and forward delta for a hedge in the outright forward markets. "
   ]
  },
  {
   "cell_type": "markdown",
   "id": "42f21b88",
   "metadata": {},
   "source": [
    "### Pips Spot Delta\n",
    "\n",
    "The pips spot delta is simply the derivative of the option price with respect to the spot rate - both expressed in ccy2/ccy1 terms.\n",
    "\n",
    "$$\\Delta_{S;\\text{pips}} = \\frac{\\partial V_{d;\\text{pips}}}{\\partial S_0}$$"
   ]
  },
  {
   "cell_type": "markdown",
   "id": "b1798d5e",
   "metadata": {},
   "source": [
    "Thus,\n",
    "\n",
    "$$\n",
    "\\begin{align*}\n",
    "\\frac{\\partial V_{\\text{d;pips}}}{\\partial S_0} &= \\omega\\frac{\\partial }{\\partial S_0} \\left[(S_0 e^{-r_{FOR}T} \\Phi(\\omega d_{+}) - K e^{-r_{DOM}T}\\Phi(\\omega d_{-})\\right)]\\\\\n",
    "&= \\omega \\left[e^{-r_{FOR}T} \\Phi(\\omega d_{+}) + S_0 e^{-r_{FOR}T} \\phi (\\omega d_{+})\\frac{\\omega}{\\sigma S_0 \\sqrt{T}} - K e^{-r_{DOM}T}\\phi (\\omega d_{-})\\frac{\\omega}{\\sigma S_0 \\sqrt{T}}\\right]\\\\\n",
    "&= \\omega e^{-r_{FOR}T} \\Phi(\\omega d_{+}) + \\frac{\\omega^2}{\\sigma S_0 \\sqrt{T}}\\left[S_0 e^{-r_{FOR}T} \\phi(\\omega d_{+}) - K e^{-r_{DOM}T}\\phi(\\omega d_{-})\\right]\\\\\n",
    "&= \\omega e^{-r_{FOR}T} \\Phi(\\omega d_{+}) + \\frac{\\omega^2}{\\sigma S_0 \\sqrt{T}}\\left[S_0 e^{-r_{FOR}T} e^{(r_{FOR} - r_{DOM})T}\\frac{K}{S_0}\\phi(\\omega d_{-}) - K e^{-r_{DOM}T}\\phi(\\omega d_{-})\\right]\\\\\n",
    "&= \\omega e^{-r_{FOR}T} \\Phi(\\omega d_{+}) + \\frac{\\omega^2}{\\sigma S_0 \\sqrt{T}}\\left[K e^{-r_{DOM}T}\\phi(\\omega d_{-}) - K e^{-r_{DOM}T}\\phi(\\omega d_{-})\\right]\\\\\n",
    "&= \\omega e^{-r_{FOR}T} \\Phi(\\omega d_{+})\n",
    "\\end{align*}\n",
    "$$"
   ]
  },
  {
   "cell_type": "markdown",
   "id": "e5cc559b",
   "metadata": {},
   "source": [
    "If we think of a delta hedge, it is just the number of units of foreign currency we need to hold in order to hedge an option with a notional of 1 unit of foreign currency and an equivalent notional of $K$ units of domestic currency. So, the spot delta is expressed as a percentage of the foreign currency."
   ]
  },
  {
   "cell_type": "markdown",
   "id": "d09ae98d",
   "metadata": {},
   "source": [
    "#### Implementing Analytic Delta."
   ]
  },
  {
   "cell_type": "code",
   "execution_count": 8,
   "id": "9f2bf02f",
   "metadata": {},
   "outputs": [],
   "source": [
    "def analyticDelta(S_t,K,t,T,r_DOM,r_FOR,sigma,CCY1Notional, callPut = CallPut.CALL_OPTION):\n",
    "    omega = callPut.value\n",
    "    d_plus = dPlus(S_t,K,t,T,r_DOM,r_FOR,sigma)\n",
    "    return omega * np.exp(-r_FOR * (T-t)) * norm.cdf(omega * d_plus) * CCY1Notional"
   ]
  },
  {
   "cell_type": "code",
   "execution_count": 9,
   "id": "c8eae5bb",
   "metadata": {},
   "outputs": [
    {
     "name": "stdout",
     "output_type": "stream",
     "text": [
      "Call option Spot Delta = 50.466746420569166 EUR\n",
      "Spot Delta in percentage = 50.466746420569166 percent\n"
     ]
    }
   ],
   "source": [
    "S_t=1.0549 ; CCY1Notional=100.0\n",
    "\n",
    "pips_spot_delta = analyticDelta(S_t,K,t,T,r_DOM,r_FOR,sigma,CCY1Notional, callPut = CallPut.CALL_OPTION)\n",
    "print(f\"Call option Spot Delta = {pips_spot_delta} EUR\")\n",
    "print(f\"Spot Delta in percentage = {pips_spot_delta/CCY1Notional * 100} percent\")"
   ]
  },
  {
   "cell_type": "markdown",
   "id": "9e142e80",
   "metadata": {},
   "source": [
    "#### Plotting the Analytic Delta of call options"
   ]
  },
  {
   "cell_type": "code",
   "execution_count": 10,
   "id": "5638bd2e",
   "metadata": {},
   "outputs": [
    {
     "data": {
      "image/png": "[encoded data removed]",
      "text/plain": [
       "<Figure size 640x480 with 1 Axes>"
      ]
     },
     "metadata": {},
     "output_type": "display_data"
    }
   ],
   "source": [
    "plt.close()\n",
    "\n",
    "plt.grid(True)\n",
    "plt.title('Plot of Analytic delta of the European call')\n",
    "plt.xlabel('EURUSD spot price')\n",
    "plt.ylabel(r'$\\frac{\\partial V}{\\partial S}$')\n",
    "\n",
    "S_t = np.linspace(0.90,1.24,201)\n",
    "CCY1Notional = 1.00\n",
    "delta = analyticDelta(S_t,K,t,1.0,r_DOM,r_FOR,sigma,CCY1Notional, callPut = CallPut.CALL_OPTION)\n",
    "plt.plot(S_t,delta,label='T=1Y')\n",
    "plt.legend(loc=\"upper left\")\n",
    "plt.show()"
   ]
  },
  {
   "cell_type": "markdown",
   "id": "4c9bb205",
   "metadata": {},
   "source": [
    "### Pips Forward Delta\n",
    "\n",
    "The interpretation of the foward delta is the number of units of FOR of forward contracts a trader needs to buy to delta hedge a short option position. \n",
    "\n",
    "It is the ratio of the change in the FV of the option with respect to the change in value of the outright forward. \n",
    "\n",
    "$$\n",
    "\\Delta_{\\text{F;pips}}=e^{r_{DOM}T}\\frac{\\partial v_{\\text{option}}}{\\partial F_{0,T}}\n",
    "$$"
   ]
  },
  {
   "cell_type": "markdown",
   "id": "3200fe10",
   "metadata": {},
   "source": [
    "So, the derivative of the value of the forward contract with respect to the spot is:\n",
    "\n",
    "$$\\frac{\\partial F_{0,T}}{\\partial R_0} = e^{(r_{DOM} - r_{FOR})T}$$"
   ]
  },
  {
   "cell_type": "markdown",
   "id": "e1896a7c",
   "metadata": {},
   "source": [
    "Using the chain rule and the derivative of the inverse function, we obtain the forward delta:\n",
    "\n",
    "$$\n",
    "\\begin{align*}\n",
    "e^{r_{DOM}T}\\frac{\\partial v_{\\text{option}}}{\\partial F_{0,T}} &= e^{r_{DOM}T}\\frac{\\partial v_{\\text{option}}}{\\partial R_0} \\times \\frac{\\partial R_0}{\\partial F_{0,T}}\\\\\n",
    "&=e^{r_{DOM}T} \\cdot \\omega e^{-r_{FOR}T}\\Phi(\\omega d_{+}) \\times e^{(r_{FOR}- r_{DOM})T}\\\\\n",
    "&= \\omega \\Phi(\\omega d_{+})\n",
    "\\end{align*}\n",
    "$$"
   ]
  },
  {
   "cell_type": "code",
   "execution_count": 11,
   "id": "769564e5",
   "metadata": {},
   "outputs": [],
   "source": [
    "def forwardDelta(S_t,K,t,T,r_DOM,r_FOR,sigma,CCY1Notional, callPut = CallPut.CALL_OPTION):\n",
    "    omega = callPut.value\n",
    "    d_plus = dPlus(S_t,K,t,T,r_DOM,r_FOR,sigma)\n",
    "    return omega  * norm.cdf(omega * d_plus) * CCY1Notional"
   ]
  },
  {
   "cell_type": "code",
   "execution_count": 12,
   "id": "c1589509",
   "metadata": {},
   "outputs": [
    {
     "name": "stdout",
     "output_type": "stream",
     "text": [
      "Forward Delta = 51.78885572432219 EUR of forward contracts\n"
     ]
    }
   ],
   "source": [
    "S_t=1.0549 ; CCY1Notional=100.00\n",
    "\n",
    "forward_delta = forwardDelta(S_t,K,t,T,r_DOM,r_FOR,sigma,CCY1Notional, callPut = CallPut.CALL_OPTION)\n",
    "print(f\"Forward Delta = {forward_delta } EUR of forward contracts\")"
   ]
  },
  {
   "cell_type": "markdown",
   "id": "8b0d4dc7",
   "metadata": {},
   "source": [
    "### Percentage Spot (Premium-adjusted) Delta.\n",
    "\n",
    "The percentage spot delta is the ratio of the change in the PV of the option expressed in FOR currency terms - to the change in the spot - expressed in FOR currency terms. \n",
    "\n",
    "$$\n",
    "\\begin{align*}\n",
    "\\Delta_{S;\\%} &= \\frac{\\partial V_{\\% f}}{(\\partial S_0)/S_0}\\\\\n",
    "&= S_0 \\times \\frac{\\partial}{\\partial S_0}\\left(\\frac{V_{\\text{d;pips}}}{S_0}\\right)\\\\\n",
    "&= S_0 \\times \\frac{S_0 \\frac{\\partial V_{\\text{d;pips}}}{\\partial S_0} - V_{\\text{d;pips}} \\frac{\\partial (S_0)}{\\partial S_0}}{S_0^2}\\\\\n",
    "&= \\frac{(\\partial V_{\\text{d;pips}}/\\partial S_0)S_0 -  V_{\\text{d;pips}}}{S_0}\\\\\n",
    "&= \\frac{\\partial V_{\\text{d;pips}}}{\\partial S_0} - \\frac{V_{\\text{d;pips}}}{S_0}\\\\\n",
    "&= \\Delta_{\\text{S;pips}} - V_{\\% f}\n",
    "\\end{align*}\n",
    "$$\n",
    "\n"
   ]
  },
  {
   "cell_type": "code",
   "execution_count": 13,
   "id": "abeb3295",
   "metadata": {},
   "outputs": [
    {
     "name": "stdout",
     "output_type": "stream",
     "text": [
      "Premium Adjusted Delta = 46.98036978761517 percent\n"
     ]
    }
   ],
   "source": [
    "premiumAdjustedDelta = pips_spot_delta - (call_price/S_t)\n",
    "\n",
    "print(f\"Premium Adjusted Delta = {premiumAdjustedDelta} percent\")"
   ]
  },
  {
   "cell_type": "markdown",
   "id": "caae3b41",
   "metadata": {},
   "source": [
    "## Gamma.\n",
    "\n",
    "$$\n",
    "\\begin{align*}\n",
    "\\frac{\\partial^2 V}{\\partial S_0^2} &= \\omega e^{-r_{FOR}T} \\frac{\\partial}{\\partial S_0}\\Phi(\\omega d_{+}) \\\\\n",
    "&= \\omega e^{-r_{FOR}T} \\phi(\\omega d_{+}) \\frac{\\omega}{\\sigma S_0 \\sqrt{T}}\\\\\n",
    "&= e^{-r_{FOR}T} \\frac{\\phi(\\omega d_{+})}{\\sigma S_0 \\sqrt{T}}\n",
    "\\end{align*}\n",
    "$$"
   ]
  },
  {
   "cell_type": "markdown",
   "id": "159c685b",
   "metadata": {},
   "source": [
    "The interpretation of the gamma is the change of the delta as the spot changes. A high gamma means that the delta hedge must be adapted very frequently and will cause transaction costs. Gamma is typically high when the spot is near a strike of a barrier, generally, whenever the payoff has a kink or dramatically a jump. Trading systems usually quote gamma as a *trader's gamma*, using a one percent relative change in the spot price. "
   ]
  },
  {
   "cell_type": "code",
   "execution_count": 14,
   "id": "da2abc8c",
   "metadata": {},
   "outputs": [],
   "source": [
    "def analyticGamma(S_t,K,t,T,r_DOM,r_FOR,sigma,CCY1Notional, callPut = CallPut.CALL_OPTION):\n",
    "    omega = callPut.value\n",
    "    d_plus = dPlus(S_t,K,t,T,r_DOM,r_FOR,sigma)\n",
    "    return np.exp(-r_FOR * (T-t)) * norm.cdf(omega * d_plus) / (sigma * S_t * np.sqrt(T-t)) * CCY1Notional"
   ]
  },
  {
   "cell_type": "code",
   "execution_count": 15,
   "id": "7df2b64b",
   "metadata": {},
   "outputs": [
    {
     "name": "stdout",
     "output_type": "stream",
     "text": [
      "Analytic Gamma = 533.2773740334613 EUR\n"
     ]
    }
   ],
   "source": [
    "gamma = analyticGamma(S_t,K,t,T,r_DOM,r_FOR,sigma,CCY1Notional, callPut = CallPut.CALL_OPTION)\n",
    "print(f\"Analytic Gamma = {gamma} EUR\")"
   ]
  },
  {
   "cell_type": "markdown",
   "id": "01dcbea9",
   "metadata": {},
   "source": [
    "### Theta.\n",
    "\n",
    "Let $\\tau = T- t$, $\\frac{\\partial \\tau}{\\partial t} = -1$. \n",
    "\n",
    "We first observe that:\n",
    "\n",
    "$$\n",
    "\\begin{align*}\n",
    "d_{-} &= d_{+} - \\sigma\\sqrt{\\tau}\\\\\n",
    "\\frac{\\partial d_{-}}{\\partial t} &= \\frac{\\partial d_{+}}{\\partial t} + \\frac{\\sigma}{2\\sqrt{\\tau}}\n",
    "\\end{align*}\n",
    "$$"
   ]
  },
  {
   "cell_type": "markdown",
   "id": "f77b7684",
   "metadata": {},
   "source": [
    "$$\n",
    "\\begin{align*}\n",
    "\\phi (d_{-}) &= \\exp\\left[-\\frac{1}{2}(d_{+} - \\sigma \\sqrt{\\tau})^2\\right]\\\\\n",
    "&= \\exp\\left[-\\frac{1}{2}(d_{+}^2 -2 d_{+}\\sigma\\sqrt{\\tau} + \\sigma^2 \\tau)\\right]\\\\\n",
    "&= \\exp\\left(-\\frac{1}{2}d_{+}^2\\right) \\exp(d_{+}\\sigma\\sqrt{\\tau}) \\exp(-\\frac{1}{2} \\sigma^2 \\tau)\\\\\n",
    "&= \\phi(d_{+}) \\exp\\left(\\log \\frac{S_0}{K} + (r_{DOM} - r_{FOR} + \\frac{\\sigma^2}{2})\\tau\\right) \\exp(-\\frac{1}{2} \\sigma^2 \\tau)\\\\\n",
    "&= \\phi(d_{+}) \\frac{S_0}{K} \\exp((r_{DOM} - r_{FOR})\\tau)\\exp(\\frac{\\sigma^2 \\tau}{2}) \\exp(-\\frac{1}{2} \\sigma^2 \\tau)\\\\\n",
    "&= \\frac{S_0}{K} \\cdot \\phi(d_{+}) e^{(r_{DOM} - r_{FOR})\\tau}\n",
    "\\end{align*}\n",
    "$$"
   ]
  },
  {
   "cell_type": "markdown",
   "id": "bbf5555b",
   "metadata": {},
   "source": [
    "And since $\\phi(\\omega d_{\\pm}) = \\phi(d_{\\pm})$, we can write:\n",
    "\n",
    "$$\\phi(\\omega d_{-})= \\frac{S_0}{K} \\phi(\\omega d_{+}) e^{(r_{DOM} - r_{FOR})\\tau}$$"
   ]
  },
  {
   "cell_type": "markdown",
   "id": "2e580d70",
   "metadata": {},
   "source": [
    "The value function of a vanilla European option is:\n",
    "\n",
    "$$v_{\\text{option}} = \\omega [S_0 e^{-r_{FOR}\\tau} \\Phi(\\omega d_{+}) - K e^{-r_{DOM}\\tau} \\Phi(\\omega d_{-})]$$\n"
   ]
  },
  {
   "cell_type": "markdown",
   "id": "09d308e5",
   "metadata": {},
   "source": [
    "Differentiating with respect to $t$, we get:\n",
    "\n",
    "$$\\frac{\\partial v_{\\text{option}}}{\\partial t} = \\omega[S_0 \\frac{\\partial }{\\partial t}e^{-r_{FOR}\\tau}\\Phi(\\omega d_{+}) - K \\frac{\\partial }{\\partial t} e^{-r_{DOM}\\tau}\\Phi(\\omega d_{-})]$$"
   ]
  },
  {
   "cell_type": "markdown",
   "id": "70f295c2",
   "metadata": {},
   "source": [
    "The first term can be expressed as:\n",
    "\n",
    "$$\n",
    "\\begin{align*}\n",
    "\\frac{\\partial }{\\partial t} e^{-r_{FOR}\\tau} \\Phi(\\omega d_{+}) &= r_{FOR}e^{-r_{FOR}\\tau}\\Phi(\\omega d_{+}) + \\omega e^{-r_{FOR}\\tau} \\phi(\\omega d_{+}) \\frac{\\partial d_{+}}{\\partial t}\n",
    "\\end{align*}\n",
    "$$"
   ]
  },
  {
   "cell_type": "markdown",
   "id": "76ea1d35",
   "metadata": {},
   "source": [
    "The second term can be expressed as:\n",
    "\n",
    "$$\n",
    "\\begin{align*}\n",
    "\\frac{\\partial }{\\partial t} e^{-r_{DOM}\\tau}\\Phi(\\omega d_{-}) &= r_{DOM}e^{-r_{DOM}\\tau}\\Phi(\\omega d_{-}) + \\omega  e^{-r_{DOM}\\tau}\\phi(\\omega d_{-}) \\frac{\\partial d_{-}}{\\partial t}\\\\\n",
    "&=r_{DOM}e^{-r_{DOM}\\tau}\\Phi(\\omega d_{-}) + \\omega \\cdot \\frac{S_0}{K}  e^{-r_{DOM}\\tau}\\phi(\\omega d_{+}) e^{(r_{DOM} - r_{FOR})\\tau}\\left(\\frac{\\partial d_{+}}{\\partial t} + \\frac{\\sigma}{2\\sqrt{\\tau}}\\right)\\\\\n",
    "&=r_{DOM}e^{-r_{DOM}\\tau}\\Phi(\\omega d_{-}) + \\omega \\cdot \\frac{S_0}{K}  e^{-r_{FOR}\\tau}\\phi(\\omega d_{+}) \\left(\\frac{\\partial d_{+}}{\\partial t} + \\frac{\\sigma}{2\\sqrt{\\tau}}\\right)\\\\\n",
    "\\end{align*}\n",
    "$$"
   ]
  },
  {
   "cell_type": "markdown",
   "id": "f0defe1f",
   "metadata": {},
   "source": [
    "Collecting the two terms we have:\n",
    "\n",
    "$$\n",
    "\\begin{align*}\n",
    "&S_0 \\frac{\\partial }{\\partial t} e^{-r_{FOR}\\tau} \\Phi(\\omega d_{+}) - K \\frac{\\partial }{\\partial t} e^{-r_{DOM}\\tau}\\Phi(\\omega d_{-}) \\\\\n",
    "=& S_0 r_{FOR}e^{-r_{FOR}\\tau}\\Phi(\\omega d_{+}) + \\omega S_0 e^{-r_{FOR}\\tau} \\phi(\\omega d_{+}) \\frac{\\partial d_{+}}{\\partial t}\\\\\n",
    "-& K r_{DOM}e^{-r_{DOM}\\tau}\\Phi(\\omega d_{-}) - \\omega S_0  e^{-r_{FOR}\\tau}\\phi(\\omega d_{+}) \\left(\\frac{\\partial d_{+}}{\\partial t} + \\frac{\\sigma}{2\\sqrt{\\tau}}\\right)\\\\\n",
    "=& S_0 r_{FOR}e^{-r_{FOR}\\tau}\\Phi(\\omega d_{+}) - K r_{DOM}e^{-r_{DOM}\\tau}\\Phi(\\omega d_{-}) - \\omega S_0  e^{-r_{FOR}\\tau}\\phi(\\omega d_{+}) \\frac{\\sigma}{2\\sqrt{\\tau}}\n",
    "\\end{align*}\n",
    "$$"
   ]
  },
  {
   "cell_type": "markdown",
   "id": "4f2a9d0e",
   "metadata": {},
   "source": [
    "Therefore,\n",
    "\n",
    "$$\n",
    "\\begin{align*}\n",
    "\\frac{\\partial v_{\\text{option}}}{\\partial t} &= \\omega [S_0 r_{FOR}e^{-r_{FOR}\\tau}\\Phi(\\omega d_{+}) - K r_{DOM}e^{-r_{DOM}\\tau}\\Phi(\\omega d_{-})] \\\\\n",
    "&- S_0  e^{-r_{FOR}\\tau}\\phi(\\omega d_{+}) \\frac{\\sigma}{2\\sqrt{\\tau}}\n",
    "\\end{align*}\n",
    "$$"
   ]
  },
  {
   "cell_type": "code",
   "execution_count": 16,
   "id": "f4122529",
   "metadata": {},
   "outputs": [],
   "source": [
    "def analyticTheta(S_t,K,t,T,r_DOM,r_FOR,sigma,CCY1Notional, callPut = CallPut.CALL_OPTION):    \n",
    "    \n",
    "    omega = callPut.value\n",
    "    FOR_df = np.exp(-r_FOR*(T-t)); DOM_df =np.exp(-r_DOM*(T-t));\n",
    "    dplus = dPlus(S_t,K,t,T,r_DOM,r_FOR,sigma); dminus = dMinus(S_t,K,t,T,r_DOM,r_FOR,sigma);\n",
    "    Nd1 = norm.cdf(omega * dplus); Nd2 = norm.cdf(omega * dminus)\n",
    "    \n",
    "    theta = (omega * (S_t * r_FOR * FOR_df * Nd1 - K * r_DOM * DOM_df * Nd2) \n",
    "            - S_t * FOR_df * Nd1 * (sigma / (2 * np.sqrt(T-t)))) * CCY1Notional\n",
    "    \n",
    "    return theta"
   ]
  },
  {
   "cell_type": "code",
   "execution_count": 17,
   "id": "6c2f476f",
   "metadata": {},
   "outputs": [
    {
     "name": "stdout",
     "output_type": "stream",
     "text": [
      "Analytic Theta = -3.0451441830007884 USD\n"
     ]
    }
   ],
   "source": [
    "S_t=1.0549 ; CCY1Notional=100.00\n",
    "\n",
    "theta = analyticTheta(S_t,K,t,T,r_DOM,r_FOR,sigma,CCY1Notional, callPut = CallPut.CALL_OPTION)\n",
    "print(f\"Analytic Theta = {theta} USD\")"
   ]
  },
  {
   "cell_type": "markdown",
   "id": "93269567",
   "metadata": {},
   "source": [
    "Theta reflects the change of the option value as the clock ticks. The *trader's theta* in a risk-management system refers to the change in the option value in one day, i.e. it can be approximated by $365 \\frac{\\partial v}{\\partial t}$."
   ]
  },
  {
   "cell_type": "markdown",
   "id": "12f8e075",
   "metadata": {},
   "source": [
    "### Vega.\n",
    "\n",
    "$$\n",
    "\\begin{align*}\n",
    "\\frac{\\partial v}{\\partial \\sigma} &= \\omega[S_0 e^{-r_{FOR}\\tau} \\frac{\\partial}{\\partial \\sigma}\\Phi(\\omega d_{+}) - K e^{-r_{DOM}\\tau} \\frac{\\partial}{\\partial \\sigma}\\Phi(\\omega d_{-})]\\\\\n",
    " &= \\omega[S_0 e^{-r_{FOR}\\tau} \\phi(\\omega d_{+})\\frac{\\partial d_{+}}{\\partial \\sigma} - K e^{-r_{DOM}\\tau} \\phi(\\omega d_{-}) \\frac{\\partial d_{-}}{\\partial \\sigma}]\n",
    "\\end{align*}\n",
    "$$"
   ]
  },
  {
   "cell_type": "markdown",
   "id": "fe4990b3",
   "metadata": {},
   "source": [
    "Note that, $d_{-} = d_{+} - \\sigma\\sqrt{\\tau}$, so $\\frac{\\partial d_{-}}{\\partial \\sigma} = \\frac{\\partial d_{+}}{\\partial \\sigma} - \\sqrt{\\tau}$. "
   ]
  },
  {
   "cell_type": "markdown",
   "id": "3db1166f",
   "metadata": {},
   "source": [
    "Also, $\\phi(\\omega d_{-})=\\frac{K}{S_0}e^{(r_{DOM} - r_{FOR})\\tau}\\phi(\\omega d_{+})$."
   ]
  },
  {
   "cell_type": "markdown",
   "id": "3e74657b",
   "metadata": {},
   "source": [
    "Plugging these two facts in the expression for option vega, we get:\n",
    "\n",
    "$$\n",
    "\\begin{align*}\n",
    "\\frac{\\partial v}{\\partial \\sigma}  &= \\omega[S_0 e^{-r_{FOR}\\tau} \\phi(\\omega d_{+})\\frac{\\partial d_{+}}{\\partial \\sigma} \\\\\n",
    "&- K e^{-r_{DOM}\\tau} \\frac{K}{S_0}e^{(r_{DOM} - r_{FOR})\\tau}\\phi(\\omega d_{+}) \\left(\\frac{\\partial d_{+}}{\\partial \\sigma} - \\sqrt{\\tau}\\right)]\\\\\n",
    "&= S_0 e^{-r_{FOR}\\tau} \\phi(\\omega d_{+}) \\sqrt{\\tau}\n",
    "\\end{align*}\n",
    "$$"
   ]
  },
  {
   "cell_type": "markdown",
   "id": "a16cf421",
   "metadata": {},
   "source": [
    "### Vanna."
   ]
  },
  {
   "cell_type": "markdown",
   "id": "02385347",
   "metadata": {},
   "source": [
    "The vanna is *dvega/dspot*. It reflects the change in the vega as the spot moves.\n",
    "\n",
    "$$\n",
    "\\begin{align*}\n",
    "\\frac{\\partial^2 v}{\\partial \\sigma \\partial S_0} &= \\frac{\\partial}{\\partial S_0} \\left(\\frac{\\partial v}{\\partial \\sigma}\\right)\\\\\n",
    "&= e^{-r_{FOR}\\tau} \\sqrt{\\tau}\\cdot \\frac{\\partial}{\\partial S_0}(S_0\\phi(\\omega d_{+}))\\\\\n",
    "&= e^{-r_{FOR}\\tau} \\sqrt{\\tau}(\\phi(\\omega d_{+}) + S_0 \\frac{\\partial}{\\partial S_0}\\phi(\\omega d_{+}))\\\\\n",
    "&= e^{-r_{FOR}\\tau} \\sqrt{\\tau}(\\phi(\\omega d_{+}) + \\omega S_0 \\frac{\\partial}{\\partial d_{+}}\\phi(\\omega d_{+})\\cdot \\frac{\\partial d_{+}}{\\partial S_0})\\\\\n",
    "&= e^{-r_{FOR}\\tau} \\sqrt{\\tau}(\\phi(\\omega d_{+}) + \\omega S_0\\frac{1}{\\sqrt{2\\pi}} \\cdot\\frac{\\partial}{\\partial d_{+}}\\exp(-d_{+}^2/2)\\cdot \\frac{1}{\\sigma S_0 \\sqrt{\\tau}})\\\\\n",
    "&= e^{-r_{FOR}\\tau} \\sqrt{\\tau}(\\phi(\\omega d_{+}) + \\omega \\frac{1}{\\sqrt{2\\pi}}e^{-d_{+}^2/2} (-d_{+})\\cdot \\frac{1}{\\sigma \\sqrt{\\tau}})\\\\\n",
    "&= e^{-r_{FOR}\\tau} \\sqrt{\\tau}\\phi(\\omega d_{+})(1 -  \\frac{d_{+}}{\\sigma \\sqrt{\\tau}})\\\\\n",
    "&= -e^{-r_{FOR}\\tau} \\phi(\\omega d_{+})\\frac{d_{-}}{\\sigma}\n",
    "\\end{align*}\n",
    "$$"
   ]
  },
  {
   "cell_type": "markdown",
   "id": "be16e84b",
   "metadata": {},
   "source": [
    "### Volga.\n",
    "\n",
    "The volga is *dvega/dvol*. It reflects the change in the vega as the vol moves.\n",
    "\n",
    "We have:\n",
    "\n",
    "$$\n",
    "\\begin{align*}\n",
    "\\frac{d^2 v}{d\\sigma^2} &= \\frac{\\partial}{\\partial \\sigma} \\left(S_0 e^{-r_{FOR}\\tau} \\phi(\\omega d_{+}) \\sqrt{\\tau}\\right)\\\\\n",
    "&=S_0 e^{-r_{FOR}\\tau} \\sqrt{\\tau} \\cdot \\frac{\\partial}{\\partial \\sigma} \\phi(\\omega d_{+})\\\\\n",
    "&=S_0 e^{-r_{FOR}\\tau} \\sqrt{\\tau} \\cdot \\frac{\\partial}{\\partial d_{+}}(\\phi(\\omega d_{+}))\\cdot \\frac{\\partial}{\\partial \\sigma} d_{+}\\\\\n",
    "&=S_0 e^{-r_{FOR}\\tau} \\sqrt{\\tau} \\cdot (-d_{+})\\phi(\\omega d_{+})\\cdot \\frac{-d_{-}}{\\sigma}\\\\\n",
    "&=S_0 e^{-r_{FOR}\\tau} \\sqrt{\\tau} \\phi(\\omega d_{+})\\frac{d_{+}d_{-}}{\\sigma}\n",
    "\\end{align*}\n",
    "$$"
   ]
  },
  {
   "cell_type": "markdown",
   "id": "198eb21e",
   "metadata": {},
   "source": [
    "## Rho.\n",
    "\n",
    "$$\n",
    "\\begin{align*}\n",
    "\\frac{\\partial v}{\\partial r_{DOM}} &= \\omega \\frac{\\partial}{\\partial r_{DOM}}\\left(S_0 e^{-r_{FOR} \\tau} \\Phi(\\omega d_{+}) - K e^{-r_{DOM}\\tau} \\Phi(\\omega d_{-})\\right)\\\\\n",
    "&= \\omega \\left[S_0\\right]\n",
    "\\end{align*}\n",
    "$$"
   ]
  },
  {
   "cell_type": "markdown",
   "id": "5dc5aa60",
   "metadata": {},
   "source": [
    "## At-The-Money Definitions\n",
    "\n",
    "The At-the-Money option, as the name suggests, is meant to correspond to, being midway between in-the-money and out-of-the-money. In practice, this is not as obvious:\n",
    "\n",
    "ATM-Spot : \n",
    "\n",
    "$$K = S_0$$\n",
    "\n",
    "ATM Forward : \n",
    "\n",
    "$$K = F_{0,T}$$\n",
    "\n",
    "ATM value neutral straddle : \n",
    "\n",
    "$$K \\text{ such that call value = put value}$$\n",
    "\n",
    "ATM delta neutral straddle :\n",
    "\n",
    "$$K \\text{ such that call delta = -put delta}$$"
   ]
  },
  {
   "cell_type": "markdown",
   "id": "8caed03f",
   "metadata": {},
   "source": [
    "Since $V_{call} = V_{put}$, when $K = F_{0,T}$, **ATM-value neutral** is equivalent to **ATMF**."
   ]
  },
  {
   "cell_type": "markdown",
   "id": "c6fdf0b0",
   "metadata": {},
   "source": [
    "### At-the-money DNS(Delta-neutral-strike)\n",
    "\n",
    "A more natural way to define an ATM strike is the strike $K_{ATM}$ for which it possible to buy a straddle (long call + long put with strike $K_{ATM}$) that  correponds to a pure long vega position with no net delta. This is called the **Delta-Neutral-Straddle** (DNS) and has the advantage that such a trade can be effected without and spot or forward hedge being needed."
   ]
  },
  {
   "cell_type": "markdown",
   "id": "dd66cbcd",
   "metadata": {},
   "source": [
    "The **Delta-Neutral-Straddle** is defined by $K_{ATM} = K_{DNS}$ where $K_{DNS}$ is chosen such that:\n",
    "\n",
    "$$ \\Delta_{Q}(\\text{Call Option}) + \\Delta_{Q}(\\text{Put Option}) = 0$$\n",
    "\n",
    "or equivalently,\n",
    "\n",
    "$$ \\Delta_{Q}(\\omega=+1,K_{DNS},T,\\sigma_{ATM}) + \\Delta_{Q}(\\omega=-1,K_{DNS},T,\\sigma_{ATM}) = 0$$"
   ]
  },
  {
   "cell_type": "markdown",
   "id": "ba691cc4",
   "metadata": {},
   "source": [
    "where $Q$ is the quote convention for the option delta. Now, the deltas can be quoted as spot delta, forward delta, percentage spot delta or percentage forward delta. "
   ]
  },
  {
   "cell_type": "markdown",
   "id": "8a796d83",
   "metadata": {},
   "source": [
    "Let's actually solve $K_{DNS}$ analytically in the simplest case of spot and foward delta.\n",
    "\n",
    "We attempt to solve:\n",
    "\n",
    "$$\n",
    "(+1)\\Phi\\left(+\\frac{\\log(F/K) + (\\sigma_{ATM}^2/2)T}{\\sigma\\sqrt{T}}\\right) + (-1)\\Phi\\left(-\\frac{\\log(F/K) + (\\sigma_{ATM}^2/2)T}{\\sigma\\sqrt{T}}\\right)=0 \n",
    "$$\n",
    "\n",
    "$$\n",
    "\\Phi\\left(+\\frac{\\log(F/K) + (\\sigma_{ATM}^2/2)T}{\\sigma\\sqrt{T}}\\right) =\\Phi\\left(-\\frac{\\log(F/K) + (\\sigma_{ATM}^2/2)T}{\\sigma\\sqrt{T}}\\right) \n",
    "$$\n",
    "\n",
    "Since $\\ln(\\cdot)$ is monotonic, it follows that:\n",
    "\n",
    "$$\n",
    "\\begin{align*}\n",
    "2\\log(F/K) + 2(\\sigma_{ATM}^2/2)T &= 0\\\\\n",
    "\\log(F/K) &= - (\\sigma_{ATM}^2/2)T \\\\\n",
    "\\log(K/F) &= (\\sigma_{ATM}^2/2)T\\\\\n",
    "K_{DNS} &= F_{0,T} e^{\\frac{\\sigma_{\\text{ATM}}^2}{2}T}\n",
    "\\end{align*}\n",
    "$$"
   ]
  },
  {
   "cell_type": "code",
   "execution_count": 18,
   "id": "ed63a105",
   "metadata": {},
   "outputs": [
    {
     "name": "stdout",
     "output_type": "stream",
     "text": [
      "ATM delta-neutral Strike = 1.0753534871192036\n"
     ]
    }
   ],
   "source": [
    "K_DNS = forward * np.exp(((sigma**2)/2)*T)\n",
    "\n",
    "print(f\"ATM delta-neutral Strike = {K_DNS}\")"
   ]
  },
  {
   "cell_type": "markdown",
   "id": "076ccbe3",
   "metadata": {},
   "source": [
    "## Market Strangles\n",
    "\n",
    "Suppose that we neglect the effect of volatility skew and presume that volatility, while non-constant across various strikes, is basically symmetric. The concept of the market strangle is that we buy an out-of-the-money put and an out-of-the-money call with strikes placed a similar distance away from the at-the-money strike in moneyness terms. For clarity, let's suppose, we are talking about the 25-delta market strangle, though the market strangle for any delta is pretty similar. \n",
    "\n",
    "The idea here is that, without needing to know the actual volatility smile, we can estimate the volatility that is needed to price a market strangle instrument consistently with the market, by taking the at-the-money volatility and adding a strangle premium $\\sigma_{25-d-ms}$ to it. The premium thus added, in volatility terms, is called the market strangle."
   ]
  },
  {
   "cell_type": "markdown",
   "id": "0eddfb72",
   "metadata": {},
   "source": [
    "The important point to make is that the strikes for calls and puts are both calculated subject to the Black-Scholes model with constant volatility of $\\sigma_{ATM} + \\sigma_{25-d-ms}$; these strikes are known as market strangle strikes $K_{25-d-c-ms}$ and $K_{25-d-p-ms}$. With that, we obtain strikes for calls and puts that have deltas of $+0.25$ and $-0.25$ respectively."
   ]
  },
  {
   "cell_type": "markdown",
   "id": "9079b0be",
   "metadata": {},
   "source": [
    "This requires the solution of:\n",
    "\n",
    "$$\n",
    "\\begin{align*}\n",
    "\\Delta_{Q}(-1, K_{25-d-p-ms},T,\\sigma_{ATM}+\\sigma_{25-d-ms}) &=-0.25\\\\\n",
    "\\Delta_{Q}(1, K_{25-d-c-ms},T,\\sigma_{ATM}+\\sigma_{25-d-ms}) &=0.25\n",
    "\\end{align*}\n",
    "$$"
   ]
  },
  {
   "cell_type": "markdown",
   "id": "5ab89d07",
   "metadata": {},
   "source": [
    "The crucial part of this, and we return to this point later, is that even if the volatility smile is not symmetric, and therefore neither the call with the strike $K_{25-d-c-ms}$ nor the put with strike $K_{25-d-p-ms}$ should be actually priced with the volatility $\\sigma_{ATM} + \\sigma_{25-d-ms}$, the aggregate price obtained for the market strangle (long a call with strike $K_{25-d-c-ms}$ and long a put with strike $K_{25-d-p-ms}$) under the actual market volatility smile should be identical to the same aggregate price for the same market strangle instrument, under the assumption of Black-Scholes volatility of $\\sigma_{ATM} + \\sigma_{25-d-ms}$."
   ]
  },
  {
   "cell_type": "markdown",
   "id": "db6e02a1",
   "metadata": {},
   "source": [
    "In other words, the market strangle $\\sigma_{25-d-ms}$ provides the adjustment to $\\sigma_{ATM}$ which is substituted into a Black-Scholes model and used to calculate the $25$-delta call and put strikes and then to price a straddle with those strikes using a full-volatility smile (though the two price components may well differ, the sum must agree)."
   ]
  },
  {
   "cell_type": "markdown",
   "id": "55b3a9e5",
   "metadata": {},
   "source": [
    "We put:\n",
    "\n",
    "$$\n",
    "V_{25-d-ms} = V(-1,K_{25-d-p-ms},T,\\sigma_{ATM}+\\sigma_{25-d-ms}) + V(+1,K_{25-d-c-ms},T,\\sigma_{ATM}+\\sigma_{25-d-ms})\n",
    "$$"
   ]
  },
  {
   "cell_type": "markdown",
   "id": "6cdeb3fd",
   "metadata": {},
   "source": [
    "$25\\Delta$ market strangles are quoted by $\\sigma_{25-d-ms}$."
   ]
  },
  {
   "cell_type": "code",
   "execution_count": 39,
   "id": "12496b82",
   "metadata": {},
   "outputs": [],
   "source": [
    "from scipy import optimize\n",
    "from scipy.stats import norm\n",
    "\n",
    "# ---------------------------------------\n",
    "#   Market Data\n",
    "# ---------------------------------------\n",
    "_25dmarket_strangle_quote = 0.004805857\n",
    "sigma_ATM=0.08971\n",
    "# ---------------------------------------\n",
    "\n",
    "sigma = sigma_ATM + _25dmarket_strangle_quote\n",
    "\n",
    "def spot_delta_call(K):\n",
    "    d_plus = dPlus(S_t,K,t,T,r_DOM,r_FOR,sigma)\n",
    "    return norm.cdf(d_plus) * np.exp(-r_FOR * T)\n",
    "\n",
    "def spot_delta_put(K):\n",
    "    d_plus = dPlus(S_t,K,t,T,r_DOM,r_FOR,sigma)\n",
    "    return (-1)* norm.cdf(-d_plus) * np.exp(-r_FOR * T)\n",
    "\n",
    "def f(K): return (spot_delta_call(K) - 0.250)\n",
    "K_25d_call_ms = optimize.brentq(f,0.01,5.00)\n",
    "\n",
    "def f(K): return(spot_delta_put(K) + 0.250)\n",
    "K_25d_put_ms = optimize.brentq(f,0.01,5.00)"
   ]
  },
  {
   "cell_type": "code",
   "execution_count": 43,
   "id": "7de59379",
   "metadata": {},
   "outputs": [
    {
     "name": "stdout",
     "output_type": "stream",
     "text": [
      "Market Strangle = 3.00508046115969 USD pips\n"
     ]
    }
   ],
   "source": [
    "_25dcallms = PV(S_t,K_25d_call_ms,t,T,r_DOM,r_FOR,sigma, CCY1Notional,callPut = CallPut.CALL_OPTION) \n",
    "_25dputms = PV(S_t,K_25d_put_ms,t,T,r_DOM,r_FOR,sigma, CCY1Notional,callPut = CallPut.PUT_OPTION) \n",
    "market_strangle = _25dcallms + _25dputms\n",
    "\n",
    "print(f\"Market Strangle = {market_strangle} USD pips\")"
   ]
  },
  {
   "cell_type": "markdown",
   "id": "f6f99a59",
   "metadata": {},
   "source": [
    "## Smile Strangle and Risk Reversal.\n",
    "\n",
    "The at-the-money volatility and market-strangle volatility provide two degrees of freedom, which allows a volatility smile to be described but without a skew. To introduce a market parameter corresponding to the skew, we use the risk-reversal. In order to do this, we need to suppose that a volatility smile of the form $\\sigma_X(K)$ exists, because each european option with different strike $K$ is priced using the smile volatility $\\sigma_X(K)$, unlike the at-the-money or market strangle for which we can use a single volatility (which we know in advance from the market data). \n",
    "\n",
    "Let's describe the conditions we have on this smile:\n",
    "\n",
    "$$\\sigma_X(K_{ATM}) = \\sigma_{ATM} \\tag{1}$$\n",
    "\n",
    "$$V_{25-d-ms} = V(-1, K_{25-d-p-ms},T,\\sigma_X(K_{25-d-p-ms})) +  V(+1, K_{25-d-p-ms},T,\\sigma_X(K_{25-d-c-ms})) \\tag{2}$$"
   ]
  },
  {
   "cell_type": "markdown",
   "id": "56b7ca4e",
   "metadata": {},
   "source": [
    "The task is now to find 25-delta smile strikes $K_{25-d-C}$ and $K_{25-d-P}$ for which the Black-Scholes delta is $\\pm0.25$ subject to using the smile volatilities $\\sigma_X(K_{25-d-C})$ and $\\sigma_X(K_{25-d-P})$ respectively. We therefore need to solve:"
   ]
  },
  {
   "cell_type": "markdown",
   "id": "5640d4a6",
   "metadata": {},
   "source": [
    "$$\\Delta_{Q}(-1,K_{25-d-P},T,\\sigma_X(K_{25-d-P}))=-0.25 \\tag{3}$$\n",
    "$$\\Delta_{Q}(-1,K_{25-d-C},T,\\sigma_X(K_{25-d-C}))=+0.25 \\tag{4}$$"
   ]
  },
  {
   "cell_type": "markdown",
   "id": "fcccd4eb",
   "metadata": {},
   "source": [
    "Once these strikes have been determined, we set $\\sigma_{25-d-P} = \\sigma_{X}(K_{25-d-p})$. The 25-delta risk reversal is calculated from the difference. However, the market generally imposes a sign convention that indicates whether the risk-reversal is defined as $\\sigma_{25-d-C} - \\sigma_{25-d-P}$  or $\\sigma_{25-d-P}-\\sigma_{25-d-C}$. We use $\\phi_{RR}\\in \\{1,-1\\}$ to denote which is meant, depending on whether risk reversals favor (that is attribute higher implied volatilities to) calls on ccy1/ccy2 or ccy2/ccy1 and put :\n",
    "\n",
    "$$\\sigma_{25-d-RR} = \\phi_{RR} \\cdot [\\sigma_{25-d-C} - \\sigma_{25-d-P}] \\tag{5}$$"
   ]
  },
  {
   "cell_type": "markdown",
   "id": "64ae7f5f",
   "metadata": {},
   "source": [
    "The equations (1), (2) and (5) provide us with the conditions necessary for $\\sigma_X(K)$ to be consistent with the market, as parameterized by $\\sigma_{ATM}$, $\\sigma_{25-d-ms}$ and $\\sigma_{25-d-RR}$. If other deltas on the smile are quoted, most commonly $10$-delta, then the conditions (3) and (5) applied in the same way, except using $\\sigma_{10-d-ms}$ and $\\sigma_{10-d-rr}$. "
   ]
  },
  {
   "cell_type": "markdown",
   "id": "eaa5acea",
   "metadata": {},
   "source": [
    "It is important to note that the smile strikes $K_{25-d-C}$ and $K_{25-d-P}$ are in general not the same as market strangle strikes $K_{25-d-C-MS}$ and $K_{25-d-P-MS}$. The $25$-delta smile strangle is given by the average volatility of the 25-delta call and 25-delta put, expressed as a premium over the at-the-money volatility:\n",
    "\n",
    "$$\n",
    "\\sigma_{25-d-SS} = \\frac{1}{2}[\\sigma_{25-d-C} + \\sigma_{25-d-P}] - \\sigma_{ATM} \\tag{6}\n",
    "$$"
   ]
  },
  {
   "cell_type": "markdown",
   "id": "cf843047",
   "metadata": {},
   "source": [
    "Note that, if $\\sigma_{25-d-RR}=0$ in equation (5), then we have $\\sigma_{25-d-C}=\\sigma_{25-d-P}$ and therefore, $\\sigma_{25-d-SS} = \\sigma_{25-d-C} - \\sigma_{ATM} = \\sigma_{25-d-P} - \\sigma_{ATM}$. Consequently, $\\sigma_{25-d-ms} = \\sigma_{25-d-ss}$ in the case where $\\sigma_{25-d-RR} = 0$, but in general, this is not so."
   ]
  },
  {
   "attachments": {
    "exploring-option-greeks4.png": {
     "image/png": "[encoded data removed]"
    }
   },
   "cell_type": "markdown",
   "id": "4e3b845f",
   "metadata": {},
   "source": [
    "![exploring-option-greeks4.png](attachment:exploring-option-greeks4.png)"
   ]
  },
  {
   "cell_type": "markdown",
   "id": "e24456fe",
   "metadata": {},
   "source": [
    "In the figure, the dotted lines indicate the volatilities at the three strikes $K_{ATM}$, $K_{25-d-P}$ and $K_{25-d-C}$. The oblique dotted line connecting the 25-delta call and 25-delta put points on the graph is bisected, so that the midpoint of that line segment has a volatility equal to the average of $\\sigma_{25-d-P}$ and $\\sigma_{25-d-C}$. The vertical distance of that midpoint above the ATM level is therefore the smile strangle $\\sigma_{25-d-SS}$ as indicated in the graph."
   ]
  },
  {
   "cell_type": "markdown",
   "id": "239d98cc",
   "metadata": {},
   "source": [
    "The discrepancy between market strangles and smile strangles is the largest for currency pairs with a large skew (that is large absolute values of risk-reversals) e.g. USDJPY. "
   ]
  },
  {
   "cell_type": "markdown",
   "id": "f620d9f3",
   "metadata": {},
   "source": [
    "We therefore have several strikes - even without including the 10-delta smile, we have \n",
    "\n",
    "$$\\{K_{25-d-P},K_{25-d-P-ms},K_{ATM},K_{25-d-C},K_{25-d-C-ms}\\}$$"
   ]
  },
  {
   "cell_type": "markdown",
   "id": "17dceab8",
   "metadata": {},
   "source": [
    "There is no unique prescription of $\\sigma_X(K)$ and we therefore need to calibrate a smile $\\sigma_X(K)$ that satisfies:\n",
    "\n",
    "$$\\sigma_X(K_{ATM}) = \\sigma_{ATM}\\tag{7}$$\n",
    "\n",
    "$$V_{25-d-ms} = V(-1,K_{25-d-P-ms},T,\\sigma_X(K_{25-d-P-ms})) + V(+1,K_{25-d-P-ms},T,\\sigma_X(K_{25-d-C-ms}))\\tag{8}$$\n",
    "\n",
    "$$\\sigma_{25-d-RR} = \\phi_{RR}[\\sigma_X(K_{25-d-C}) - \\sigma_X(K_{25-d-P})]\\tag {9}$$"
   ]
  },
  {
   "cell_type": "markdown",
   "id": "d051c4db",
   "metadata": {},
   "source": [
    "where the strikes are determined as detailed above. When these three equations are satisfied, we have:\n",
    "\n",
    "$$\\sigma_{25-d-ss} = \\frac{1}{2}[\\sigma_X(K_{25-d-C}) + \\sigma_X(K_{25-d-P})] - \\sigma_X(K_{ATM})$$"
   ]
  },
  {
   "cell_type": "code",
   "execution_count": null,
   "id": "696fb29b",
   "metadata": {},
   "outputs": [],
   "source": []
  }
 ],
 "metadata": {
  "kernelspec": {
   "display_name": "Python 3 (ipykernel)",
   "language": "python",
   "name": "python3"
  },
  "language_info": {
   "codemirror_mode": {
    "name": "ipython",
    "version": 3
   },
   "file_extension": ".py",
   "mimetype": "text/x-python",
   "name": "python",
   "nbconvert_exporter": "python",
   "pygments_lexer": "ipython3",
   "version": "3.11.4"
  }
 },
 "nbformat": 4,
 "nbformat_minor": 5
}
